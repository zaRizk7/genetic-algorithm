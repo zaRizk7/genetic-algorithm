{
 "cells": [
  {
   "cell_type": "code",
   "execution_count": 1,
   "metadata": {},
   "outputs": [],
   "source": [
    "from numpy import sin, cos, random as rn, array"
   ]
  },
  {
   "cell_type": "code",
   "execution_count": 2,
   "metadata": {},
   "outputs": [],
   "source": [
    "'''\n",
    "Defined Function\n",
    "'''\n",
    "def h(x1, x2):\n",
    "    assert -1 <= x1 <= 2, 'Outside defined limit for x1!'\n",
    "    assert -1 <= x2 <= 1, 'Outside defined limit for x2!'\n",
    "    return cos(x1) * sin(x2) - x1 / (x2 ** 2 + 1)"
   ]
  },
  {
   "cell_type": "code",
   "execution_count": 3,
   "metadata": {},
   "outputs": [],
   "source": [
    "'''\n",
    "Used to generate a phenotype based on generated genotype\n",
    "'''\n",
    "def x(r_min, r_max, gens):\n",
    "    assert r_min <= r_max, 'Minimum limit must be lesser than maximum limit!'\n",
    "    g_sum = sum(gens)\n",
    "    N = len(gens)\n",
    "    return r_min + (r_max - r_min) * g_sum / N"
   ]
  },
  {
   "cell_type": "code",
   "execution_count": 4,
   "metadata": {
    "tags": []
   },
   "outputs": [],
   "source": [
    "'''\n",
    "Generate genotype based on random real number\n",
    "'''\n",
    "def generate_genotype(n):\n",
    "    assert n >= 0, 'Accepts positive integers!'\n",
    "    assert n % 2 == 0, 'Accepts even integers!'\n",
    "    return [[rn.random() for i in range(n)] for i in range(2**n)]\n",
    "\n",
    "genes = generate_genotype(6)"
   ]
  },
  {
   "cell_type": "code",
   "execution_count": 31,
   "metadata": {
    "tags": []
   },
   "outputs": [],
   "source": [
    "'''\n",
    "Generate list of phenotype based on genotype given\n",
    "'''\n",
    "def generate_phenotype(gene):\n",
    "    N = len(gene)\n",
    "    x1 = x(-1, 2, gene[0:N//2])\n",
    "    x2 = x(-1, 1, gene[N//2:N])\n",
    "    return x1, x2"
   ]
  },
  {
   "cell_type": "code",
   "execution_count": 324,
   "metadata": {},
   "outputs": [],
   "source": [
    "'''\n",
    "Returns minimum fitness value. If x1 and x2 is outside boundary,\n",
    "then it will return 0 and determined formula if it is within.\n",
    "'''\n",
    "def fitness(x1, x2):\n",
    "    try:\n",
    "        return 1/h(x1, x2)\n",
    "    except:\n",
    "        return 0"
   ]
  },
  {
   "cell_type": "code",
   "execution_count": 328,
   "metadata": {
    "tags": []
   },
   "outputs": [],
   "source": [
    "'''\n",
    "Calculate fitness of a gene\n",
    "'''\n",
    "def calculate_gene_fitness(gene):\n",
    "    x1, x2 = generate_phenotype(gene)\n",
    "    return fitness(x1, x2)"
   ]
  },
  {
   "cell_type": "code",
   "execution_count": 358,
   "metadata": {
    "tags": []
   },
   "outputs": [],
   "source": [
    "'''\n",
    "Tournament selection for selecting best parents,\n",
    "it will do k iteration to find values that is\n",
    "suitable based on its fitness value\n",
    "'''\n",
    "def selection(genes, k = 10):\n",
    "    copied_genes = genes.copy()\n",
    "    best = []\n",
    "    best_fitness = 0\n",
    "    for i in range(k):\n",
    "        random_index = rn.randint(len(copied_genes))\n",
    "        indv_gene = copied_genes[random_index]\n",
    "        x1, x2 = generate_phenotype(indv_gene)\n",
    "        indv_fitness = fitness(x1, x2)\n",
    "        if len(best) == 0 or indv_fitness > best_fitness:\n",
    "            copied_genes.pop(random_index)\n",
    "            best.append(indv_gene)\n",
    "            best_fitness = indv_fitness\n",
    "    return best"
   ]
  },
  {
   "cell_type": "code",
   "execution_count": 326,
   "metadata": {
    "tags": []
   },
   "outputs": [],
   "source": [
    "'''\n",
    "Crossover for genes, by default has probability of 65%\n",
    "'''\n",
    "def crossover(genes, pc = 65):\n",
    "    N = len(genes[0])\n",
    "    crossed_genes = []\n",
    "    while len(crossed_genes) < len(genes):\n",
    "        cross_probability = rn.randint(0, 101)\n",
    "        i = len(crossed_genes)\n",
    "        new_gene = genes[i].copy()\n",
    "        random_i = rn.randint(len(genes))\n",
    "        if cross_probability <= pc and random_i != i:            \n",
    "            random_gene = genes[random_i].copy()\n",
    "            new_gene[0:N//2-1], random_gene[0:N//2+1] = random_gene[N//2+1:N], new_gene[N//2-1:N]\n",
    "        crossed_genes.append(new_gene)\n",
    "    return crossed_genes"
   ]
  },
  {
   "cell_type": "code",
   "execution_count": 327,
   "metadata": {
    "tags": []
   },
   "outputs": [],
   "source": [
    "'''\n",
    "Mutation for genes, by default has probability of 1%\n",
    "'''\n",
    "def mutation(genes, pm = 1):\n",
    "    mutated_genes = []\n",
    "    N = len(genes[0])\n",
    "    for i in range(len(genes)):\n",
    "        mutation_probability = rn.randint(0, 101)\n",
    "        gene = genes[i].copy()\n",
    "        if mutation_probability <= pm:\n",
    "            random_i = rn.randint(N)\n",
    "            gene[random_i] = rn.random()\n",
    "        mutated_genes.append(gene)\n",
    "    return mutated_genes"
   ]
  },
  {
   "cell_type": "code",
   "execution_count": 333,
   "metadata": {},
   "outputs": [],
   "source": [
    "'''\n",
    "Evaluate fitness value of entire genes\n",
    "'''\n",
    "def evaluate_genes(genes):\n",
    "    phenotypes = [generate_phenotype(gene) for gene in genes]\n",
    "    genes_fitness = [fitness(x1, x2) for x1, x2 in phenotypes]\n",
    "    evaluated_result = sum(genes_fitness) \n",
    "    return evaluated_result"
   ]
  },
  {
   "cell_type": "code",
   "execution_count": 337,
   "metadata": {},
   "outputs": [],
   "source": [
    "'''\n",
    "Sort genes based on its fitness value\n",
    "'''\n",
    "def sort_genes(genes):\n",
    "    return sorted(genes, key=lambda gene: calculate_gene_fitness(gene))"
   ]
  },
  {
   "cell_type": "code",
   "execution_count": 338,
   "metadata": {},
   "outputs": [],
   "source": [
    "def steady_state(genes, offspring):\n",
    "    N = len(offspring)\n",
    "    worst_genes = sort_genes(genes)[-N:]\n",
    "    replaced_index = []\n",
    "    for i in range(N):\n",
    "        genes.remove(worst_genes[i])\n",
    "        genes.append(offspring[i])\n",
    "    return genes"
   ]
  },
  {
   "cell_type": "code",
   "execution_count": 360,
   "metadata": {
    "tags": []
   },
   "outputs": [
    {
     "output_type": "stream",
     "name": "stdout",
     "text": "1.3866931425527493 -0.0268249698969123 -1.390606147550728\n"
    }
   ],
   "source": [
    "def genetic_algorithm(n):\n",
    "    genes = generate_genotype(n)\n",
    "    for i in range(2**n):\n",
    "        evaluated_fitness = evaluate_genes(genes)\n",
    "        parents = selection(genes)\n",
    "        offspring = crossover(parents)\n",
    "        offspring = mutation(parents)\n",
    "        genes = sort_genes(genes)\n",
    "        genes = steady_state(genes, offspring)\n",
    "    best = max(genes, key=lambda gene: calculate_gene_fitness(gene))\n",
    "    x1, x2 = generate_phenotype(best)\n",
    "    print(x1, x2, h(x1, x2))\n",
    "genetic_algorithm(8)"
   ]
  }
 ],
 "metadata": {
  "kernelspec": {
   "display_name": "Python 3",
   "language": "python",
   "name": "python3"
  },
  "language_info": {
   "codemirror_mode": {
    "name": "ipython",
    "version": 3
   },
   "file_extension": ".py",
   "mimetype": "text/x-python",
   "name": "python",
   "nbconvert_exporter": "python",
   "pygments_lexer": "ipython3",
   "version": "3.8.3-final"
  }
 },
 "nbformat": 4,
 "nbformat_minor": 4
}