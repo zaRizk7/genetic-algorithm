{
 "cells": [
  {
   "cell_type": "code",
   "execution_count": 1,
   "metadata": {},
   "outputs": [],
   "source": [
    "from numpy import sin, cos, random as rn, array\n",
    "from matplotlib import pyplot as plt"
   ]
  },
  {
   "cell_type": "code",
   "execution_count": 2,
   "metadata": {},
   "outputs": [],
   "source": [
    "'''\n",
    "Defined Function\n",
    "'''\n",
    "def h(x1, x2):\n",
    "    assert -1 <= x1 <= 2, 'Outside defined limit for x1!'\n",
    "    assert -1 <= x2 <= 1, 'Outside defined limit for x2!'\n",
    "    return cos(x1) * sin(x2) - x1 / (x2 ** 2 + 1)"
   ]
  },
  {
   "cell_type": "code",
   "execution_count": 3,
   "metadata": {},
   "outputs": [],
   "source": [
    "'''\n",
    "Used to decode chromosome\n",
    "'''\n",
    "def x(r_min, r_max, gens):\n",
    "    # Checks if the condition fulfills\n",
    "    assert r_min <= r_max, 'Minimum limit must be lesser than maximum limit!'\n",
    "    # Add all value from gens list\n",
    "    g_sum = sum(gens)\n",
    "    # Fetch list length\n",
    "    N = len(gens)\n",
    "    # Returns x based on the defined formula\n",
    "    return r_min + (r_max - r_min) * g_sum / N"
   ]
  },
  {
   "cell_type": "code",
   "execution_count": 4,
   "metadata": {
    "tags": []
   },
   "outputs": [],
   "source": [
    "'''\n",
    "Generate chromosome based on random real number with size m,\n",
    "for each population and n for the total of population\n",
    "'''\n",
    "def generate_population(m, n):\n",
    "    # Checks if m and n is greater than zero \n",
    "    assert m > 0 and n > 0, 'Accepts positive integers!'\n",
    "    # Checks if m is an even number\n",
    "    assert m % 2 == 0, 'Accepts even integers!'\n",
    "    return [[rn.random() for i in range(m)] for i in range(n)]"
   ]
  },
  {
   "cell_type": "code",
   "execution_count": 5,
   "metadata": {
    "tags": []
   },
   "outputs": [],
   "source": [
    "'''\n",
    "Decode the chromosomes into two values, x1 and x2\n",
    "'''\n",
    "def decode(chromosome):\n",
    "    # Fetch list length\n",
    "    N = len(chromosome)\n",
    "    # Generate x1 based on first half of the chromosome\n",
    "    x1 = x(-1, 2, chromosome[0:N//2])\n",
    "    # Generate x2 based on second half of the chromosome\n",
    "    x2 = x(-1, 1, chromosome[N//2:N])\n",
    "    # Returns both x1 and x2\n",
    "    return x1, x2"
   ]
  },
  {
   "cell_type": "code",
   "execution_count": 6,
   "metadata": {},
   "outputs": [],
   "source": [
    "'''\n",
    "Returns minimum fitness value. If x1 and x2 is outside boundary,\n",
    "then it will return 0 and determined formula if it is within.\n",
    "'''\n",
    "def fitness(x1, x2):\n",
    "    # Checks if the values passed assertion\n",
    "    try:\n",
    "        # If it passes return the fitness value of f = -h\n",
    "        return -h(x1, x2)\n",
    "    except:\n",
    "        # Returns zero if assertion fails\n",
    "        return 0"
   ]
  },
  {
   "cell_type": "code",
   "execution_count": 7,
   "metadata": {
    "tags": []
   },
   "outputs": [],
   "source": [
    "'''\n",
    "Calculate fitness of a chromosome\n",
    "'''\n",
    "def chromosome_fitness(chromosome):\n",
    "    # Fetch x1 and x2 from decode function\n",
    "    x1, x2 = decode(chromosome)\n",
    "    # Returns fitness value of the chromosome\n",
    "    return fitness(x1, x2)"
   ]
  },
  {
   "cell_type": "code",
   "execution_count": 8,
   "metadata": {},
   "outputs": [],
   "source": [
    "'''\n",
    "Evaluate fitness value of entire population\n",
    "'''\n",
    "def evaluate(populations):\n",
    "    # Decode the populations\n",
    "    population_decode = [decode(p) for p in populations]\n",
    "    # Generate fitness value based on the decoded population\n",
    "    chromosome_fitness = [fitness(x1, x2) for x1, x2 in population_decode]\n",
    "    # Sum all the values within list of fitness values\n",
    "    result = sum(chromosome_fitness) \n",
    "    # Returns the result\n",
    "    return result"
   ]
  },
  {
   "cell_type": "code",
   "execution_count": 9,
   "metadata": {},
   "outputs": [],
   "source": [
    "'''\n",
    "Sort genes based on its fitness value\n",
    "'''\n",
    "def sort_population(population):\n",
    "    # Sort the list based on the fitness value of each chromosomes\n",
    "    return sorted(population, key=lambda chromosome: chromosome_fitness(chromosome))"
   ]
  },
  {
   "cell_type": "code",
   "execution_count": 10,
   "metadata": {
    "tags": []
   },
   "outputs": [],
   "source": [
    "'''\n",
    "Tournament selection for selecting best parents,\n",
    "it will do k iteration to find values that is\n",
    "suitable based on its fitness value\n",
    "'''\n",
    "def selection(population, k):\n",
    "    # Copies the population into a new list\n",
    "    population_copy = population.copy()\n",
    "    # List to place the best chromosomes\n",
    "    best = []\n",
    "    # Placeholder for the current best fitness within the iteration\n",
    "    best_fitness = 0\n",
    "    for i in range(k):\n",
    "        # Generate random index with population length as its boundaries\n",
    "        random_index = rn.randint(len(population_copy))\n",
    "        # Individual chromosome chosen based on random index generated\n",
    "        chromosome_individual = population_copy[random_index]\n",
    "        # Calculated Fitness values of the selected Individual\n",
    "        fitness_individual = chromosome_fitness(chromosome_individual)\n",
    "        # Checks if the list is empty or the individual fitness has better value than current best fitness\n",
    "        if len(best) == 0 or fitness_individual > best_fitness:\n",
    "            # Removes the chromosome from the population\n",
    "            population_copy.pop(random_index)\n",
    "            # Inserts to the best chromosome list\n",
    "            best.append(chromosome_individual)\n",
    "            # Replaces the best fitness value\n",
    "            best_fitness = fitness_individual\n",
    "    # Returns the best chromosomes\n",
    "    return best"
   ]
  },
  {
   "cell_type": "code",
   "execution_count": 11,
   "metadata": {
    "tags": []
   },
   "outputs": [],
   "source": [
    "'''\n",
    "Crossover for population or parents\n",
    "'''\n",
    "def crossover(population, pc):\n",
    "    # Fetch the chromosome size\n",
    "    N = len(population[0])\n",
    "    # List to hold the crossover result\n",
    "    population_cross = []\n",
    "    # Iterate until the population crossover has the same length as the current population\n",
    "    while len(population_cross) < len(population):\n",
    "        # Generate probability for crossover\n",
    "        cross_probability = rn.randint(0, 101)\n",
    "        # Fetch the current value of crossover population size\n",
    "        i = len(population_cross)\n",
    "        # Copies the current selected chromosome\n",
    "        chromosome_new = population[i].copy()\n",
    "        # Generate random index to select a random chromosome\n",
    "        random_i = rn.randint(len(population))\n",
    "        # Checks if the probability is within pC range and is not the same as the current index\n",
    "        if cross_probability <= pc and random_i != i:\n",
    "            # Copies the random chromosome value into new variable\n",
    "            chromosome_random = population[random_i].copy()\n",
    "            # Generate random index to crossover between\n",
    "            crossover_index = rn.randint(len(chromosome_new))\n",
    "            # Swaps the gen within the chosen chromosomes based on the generated random index limit\n",
    "            chromosome_new[0:crossover_index], chromosome_random[0:crossover_index] = chromosome_random[0:crossover_index], chromosome_new[0:crossover_index]\n",
    "            chromosome_new[crossover_index:N], chromosome_random[crossover_index:N] = chromosome_random[crossover_index:N], chromosome_new[crossover_index:N]\n",
    "        # Adds the crossover result to the list\n",
    "        population_cross.append(chromosome_new)\n",
    "    # Return the crossover population list\n",
    "    return population_cross"
   ]
  },
  {
   "cell_type": "code",
   "execution_count": 12,
   "metadata": {
    "tags": []
   },
   "outputs": [],
   "source": [
    "'''\n",
    "Mutation for population or offspring\n",
    "'''\n",
    "def mutation(population, pm):\n",
    "    # List to hold the mutation result\n",
    "    population_mutate = []\n",
    "    # Fetch the chromosome size\n",
    "    N = len(population[0])\n",
    "    # Iterate based on the population size\n",
    "    for i in range(len(population)):\n",
    "        # Generate probability of mutation\n",
    "        probability_mutation = rn.randint(0, 101)\n",
    "        # Copy the chromsome and places it into a variable\n",
    "        chromosome = population[i].copy()\n",
    "        # Checks if the probability is within pM range\n",
    "        if probability_mutation <= pm:\n",
    "            # Generate new random index\n",
    "            random_i = rn.randint(N)\n",
    "            # Place new random value within the chromosome based on random index\n",
    "            chromosome[random_i] = rn.random()\n",
    "        # Adds the mutation result into the list\n",
    "        population_mutate.append(chromosome)\n",
    "    # Returns the mutation result\n",
    "    return population_mutate"
   ]
  },
  {
   "cell_type": "code",
   "execution_count": 13,
   "metadata": {},
   "outputs": [],
   "source": [
    "'''\n",
    "Elitism is used to fetch k chromosomes with the best fitness value\n",
    "'''\n",
    "def elitism(population, k):\n",
    "    # Get the sorted population based on the fitness value\n",
    "    population_sort = sort_population(population)\n",
    "    # Returns values sorted on the highest fitness with k size\n",
    "    return population_sort[-k:]"
   ]
  },
  {
   "cell_type": "code",
   "execution_count": 14,
   "metadata": {
    "tags": []
   },
   "outputs": [],
   "source": [
    "'''\n",
    "Generational Replacement for Genetic Algorithm\n",
    "'''\n",
    "def generational_replacement_ga(max_count, selection_count, chromosome_count, population_count, elite_count, pc, pm):\n",
    "    # Generate population\n",
    "    population = generate_population(chromosome_count, population_count)\n",
    "    # List to hold the entire generation fitness value\n",
    "    generation_fitness = []\n",
    "    # Iterate based on maximum generation count\n",
    "    for i in range(max_count):\n",
    "        # Evaluate and the generation fitness value to the fitness list\n",
    "        generation_fitness.append(evaluate(population))\n",
    "        # Generate new population based on the best chromosomes\n",
    "        new_population = elitism(population, elite_count)\n",
    "        # Generate new population until the size reaches the current population\n",
    "        while len(new_population) < population_count:\n",
    "            # Do parent selection\n",
    "            parents = selection(population, selection_count)\n",
    "            # Crossover with the parents\n",
    "            offspring = crossover(parents, pc)\n",
    "            # Mutate the offsprings\n",
    "            offspring = mutation(offspring, pm)\n",
    "            # Add the offsprings into the new population\n",
    "            new_population.extend(offspring)\n",
    "        # Replaces the old population with the new population\n",
    "        population = new_population\n",
    "    # Return latest generated population\n",
    "    return population, generation_fitness"
   ]
  },
  {
   "cell_type": "code",
   "execution_count": 15,
   "metadata": {},
   "outputs": [],
   "source": [
    "'''\n",
    "Steady state replaces the population with worst fitness value\n",
    "with offsprings from parent selection\n",
    "'''\n",
    "def steady_state(population, offspring):\n",
    "    # Size of the offspring\n",
    "    N = len(offspring)\n",
    "    # Fetch the worst population based on fitness sorting\n",
    "    population_worst = sort_population(population)[N:]\n",
    "    # Iterate based on the offspring size\n",
    "    for i in range(N):\n",
    "        # Remove the worst chromosomes\n",
    "        population.remove(population_worst[i])\n",
    "        # Adds the new offsprings\n",
    "        population.append(offspring[i])\n",
    "    # Return the new population\n",
    "    return population"
   ]
  },
  {
   "cell_type": "code",
   "execution_count": 16,
   "metadata": {
    "tags": []
   },
   "outputs": [],
   "source": [
    "'''\n",
    "Fitness Based Steady State for Genetic Algorithm\n",
    "'''\n",
    "def steady_state_ga(max_count, selection_count, chromosome_count, population_count, pc, pm):\n",
    "    # Generate population\n",
    "    population = generate_population(chromosome_count, population_count)\n",
    "    # List to hold the entire generation fitness value\n",
    "    generation_fitness = []\n",
    "    # Iterate based on maximum generation count\n",
    "    for i in range(max_count):\n",
    "        # Evaluate and the generation fitness value to the fitness list\n",
    "        generation_fitness.append(evaluate(population))\n",
    "        # Do parent selection\n",
    "        parents = selection(population, selection_count)\n",
    "        # Crossover with the parents\n",
    "        offspring = crossover(parents, pc)\n",
    "        # Mutate the offsprings\n",
    "        offspring = mutation(parents, pm)\n",
    "        # Do steady state survivor selection\n",
    "        population = steady_state(population, offspring)\n",
    "    # Return latest generated population\n",
    "    return population, generation_fitness"
   ]
  },
  {
   "cell_type": "code",
   "execution_count": 17,
   "metadata": {},
   "outputs": [],
   "source": [
    "'''\n",
    "Output the result based on the defined hyperparameter\n",
    "'''\n",
    "def output_result(is_generational_replacement, max_count, selection_count, chromosome_count, population_count, pc, pm, elite_count = 0):\n",
    "    # Generate population using steady state\n",
    "    population = steady_state_ga(max_count, selection_count, chromosome_count, population_count, pc, pm)\n",
    "    # Prints the defined parameter\n",
    "    print('Parameters')\n",
    "    print(f'Max Iteration: {max_count}')\n",
    "    print(f'Selection Iteration: {selection_count}')\n",
    "    print(f'Number of chromosome: {chromosome_count}')\n",
    "    print(f'Number of population: {population_count}')\n",
    "    # Checks if the population should be generated using generational replacement\n",
    "    if is_generational_replacement:\n",
    "        # Prints additional parameter for generational replacement\n",
    "        print(f'Number of elites: {elite_count}')\n",
    "        # Replaces the former population with the one using generational replacement\n",
    "        population = generational_replacement_ga(max_count, selection_count, chromosome_count, population_count, elite_count, pc, pm)\n",
    "    # Continues printing the parameters\n",
    "    print(f'Crossover Probablilty: {pc}%')\n",
    "    print(f'Mutation Probability: {pm}%')\n",
    "    # Fetch best chromosome\n",
    "    best_chromosome = max(population[0], key=lambda chromosome: chromosome_fitness(chromosome))\n",
    "    # Rounds the chromosome value with 4 decimals\n",
    "    best_chromosome = [round(gen, 4) for gen in best_chromosome]\n",
    "    # Decodes the best chromosome\n",
    "    x1, x2 = decode(best_chromosome)\n",
    "    # Round x1 and x2 with 4 decimals\n",
    "    x1, x2 = round(x1, 4), round(x2, 4)\n",
    "    # Round the h(x1, x2) with 4 decimals\n",
    "    best_result = round(h(x1, x2), 4)\n",
    "    # Outputs the best chromosome values\n",
    "    print('Best Result')\n",
    "    print(f'{best_chromosome}, x1:{x1}, x2:{x2}, h(x1, x2):{best_result}')\n",
    "    # Print the entire population and its decoded result\n",
    "    print('Results')\n",
    "    for chromosome in population[0]:\n",
    "        chromosome = [round(gen, 4) for gen in chromosome]\n",
    "        x1, x2 = decode(chromosome)\n",
    "        x1, x2 = round(x1, 4), round(x2, 4)\n",
    "        result = round(h(x1, x2), 4)\n",
    "        print(f'{chromosome}, x1:{x1}, x2:{x2}, h(x1, x2):{result}')\n",
    "    # Visualize the fitness of each generation\n",
    "    plt.plot(list(range(max_count)), population[1])\n",
    "    plt.title('Generational Fitness Value')\n",
    "    plt.xlabel('Number of Generation (x)')\n",
    "    plt.ylabel('Fitness Value of Each Generation (y)')\n",
    "    plt.axvline(0, 0, color='k')\n",
    "    plt.axhline(0, 0, color='k')\n",
    "    plt.savefig(f'generational-{is_generational_replacement}', bbox_inches='tight')"
   ]
  },
  {
   "cell_type": "code",
   "execution_count": 18,
   "metadata": {},
   "outputs": [
    {
     "name": "stdout",
     "output_type": "stream",
     "text": [
      "Generational Replacement\n",
      "Parameters\n",
      "Max Iteration: 500\n",
      "Selection Iteration: 15\n",
      "Number of chromosome: 8\n",
      "Number of population: 50\n",
      "Number of elites: 2\n",
      "Crossover Probablilty: 65%\n",
      "Mutation Probability: 2%\n",
      "Best Result\n",
      "[0.9974, 0.9856, 0.9947, 0.9965, 0.4798, 0.6624, 0.9038, 0.1597], x1:1.9807, x2:0.1028, h(x1, x2):-2.0009\n",
      "Results\n",
      "[0.9974, 0.9856, 0.9947, 0.9965, 0.4798, 0.6624, 0.9038, 0.1597], x1:1.9807, x2:0.1028, h(x1, x2):-2.0009\n",
      "[0.9974, 0.9856, 0.9947, 0.9965, 0.4798, 0.6624, 0.9038, 0.1597], x1:1.9807, x2:0.1028, h(x1, x2):-2.0009\n",
      "[0.9974, 0.9856, 0.9947, 0.9965, 0.4798, 0.6624, 0.9038, 0.1597], x1:1.9807, x2:0.1028, h(x1, x2):-2.0009\n",
      "[0.9974, 0.9856, 0.9947, 0.9965, 0.4798, 0.6624, 0.9038, 0.1597], x1:1.9807, x2:0.1028, h(x1, x2):-2.0009\n",
      "[0.9974, 0.9856, 0.9947, 0.9965, 0.4798, 0.6624, 0.9038, 0.1597], x1:1.9807, x2:0.1028, h(x1, x2):-2.0009\n",
      "[0.9974, 0.9856, 0.9947, 0.9965, 0.4798, 0.6624, 0.9038, 0.3519], x1:1.9807, x2:0.1989, h(x1, x2):-1.9841\n",
      "[0.9974, 0.9856, 0.9947, 0.9965, 0.4798, 0.6624, 0.9038, 0.1597], x1:1.9807, x2:0.1028, h(x1, x2):-2.0009\n",
      "[0.9974, 0.9856, 0.9947, 0.9965, 0.4798, 0.6624, 0.9038, 0.1597], x1:1.9807, x2:0.1028, h(x1, x2):-2.0009\n",
      "[0.1283, 0.9856, 0.9947, 0.9965, 0.4798, 0.6624, 0.9038, 0.1597], x1:1.3288, x2:0.1028, h(x1, x2):-1.2903\n",
      "[0.9974, 0.9856, 0.9947, 0.9965, 0.4798, 0.6624, 0.9038, 0.1597], x1:1.9807, x2:0.1028, h(x1, x2):-2.0009\n",
      "[0.9974, 0.9856, 0.9947, 0.9965, 0.4798, 0.6624, 0.9038, 0.1597], x1:1.9807, x2:0.1028, h(x1, x2):-2.0009\n",
      "[0.9974, 0.9856, 0.9947, 0.9965, 0.4798, 0.6624, 0.9038, 0.1597], x1:1.9807, x2:0.1028, h(x1, x2):-2.0009\n",
      "[0.9974, 0.9856, 0.9947, 0.592, 0.4798, 0.6624, 0.9038, 0.1597], x1:1.6773, x2:0.1028, h(x1, x2):-1.6707\n",
      "[0.9974, 0.9856, 0.9947, 0.9965, 0.4798, 0.6624, 0.9038, 0.1597], x1:1.9807, x2:0.1028, h(x1, x2):-2.0009\n",
      "[0.9974, 0.9856, 0.9947, 0.9965, 0.4798, 0.6624, 0.9038, 0.1597], x1:1.9807, x2:0.1028, h(x1, x2):-2.0009\n",
      "[0.9974, 0.9856, 0.9947, 0.9965, 0.4798, 0.6624, 0.9038, 0.1597], x1:1.9807, x2:0.1028, h(x1, x2):-2.0009\n",
      "[0.9974, 0.9856, 0.9947, 0.9965, 0.4798, 0.6624, 0.9038, 0.1597], x1:1.9807, x2:0.1028, h(x1, x2):-2.0009\n",
      "[0.1283, 0.9856, 0.9947, 0.9965, 0.4798, 0.6624, 0.9038, 0.1597], x1:1.3288, x2:0.1028, h(x1, x2):-1.2903\n",
      "[0.9974, 0.9856, 0.9947, 0.9965, 0.4798, 0.6624, 0.9038, 0.1597], x1:1.9807, x2:0.1028, h(x1, x2):-2.0009\n",
      "[0.9974, 0.9856, 0.9947, 0.9965, 0.4798, 0.6624, 0.9038, 0.1597], x1:1.9807, x2:0.1028, h(x1, x2):-2.0009\n",
      "[0.9974, 0.9856, 0.9947, 0.9965, 0.4798, 0.6624, 0.9038, 0.1597], x1:1.9807, x2:0.1028, h(x1, x2):-2.0009\n",
      "[0.9974, 0.9856, 0.9947, 0.9965, 0.4798, 0.6624, 0.9038, 0.1597], x1:1.9807, x2:0.1028, h(x1, x2):-2.0009\n",
      "[0.9974, 0.9856, 0.9947, 0.9965, 0.4798, 0.6624, 0.9038, 0.1597], x1:1.9807, x2:0.1028, h(x1, x2):-2.0009\n",
      "[0.9974, 0.9856, 0.9947, 0.9965, 0.4798, 0.6624, 0.9038, 0.1597], x1:1.9807, x2:0.1028, h(x1, x2):-2.0009\n",
      "[0.9974, 0.9856, 0.9947, 0.9965, 0.4798, 0.6624, 0.9038, 0.1597], x1:1.9807, x2:0.1028, h(x1, x2):-2.0009\n",
      "[0.9974, 0.9856, 0.9947, 0.9965, 0.4798, 0.6624, 0.9038, 0.1597], x1:1.9807, x2:0.1028, h(x1, x2):-2.0009\n",
      "[0.9974, 0.9856, 0.9947, 0.9965, 0.4798, 0.6624, 0.9038, 0.1597], x1:1.9807, x2:0.1028, h(x1, x2):-2.0009\n",
      "[0.9974, 0.9856, 0.9947, 0.9965, 0.4798, 0.6624, 0.9038, 0.1597], x1:1.9807, x2:0.1028, h(x1, x2):-2.0009\n",
      "[0.1283, 0.9856, 0.9947, 0.9965, 0.4798, 0.6624, 0.9038, 0.1597], x1:1.3288, x2:0.1028, h(x1, x2):-1.2903\n",
      "[0.9974, 0.9856, 0.9947, 0.9965, 0.4798, 0.6624, 0.9038, 0.1597], x1:1.9807, x2:0.1028, h(x1, x2):-2.0009\n",
      "[0.9974, 0.9856, 0.9947, 0.9965, 0.4798, 0.6624, 0.9038, 0.1597], x1:1.9807, x2:0.1028, h(x1, x2):-2.0009\n",
      "[0.9974, 0.9856, 0.9947, 0.9965, 0.4798, 0.6624, 0.9038, 0.1597], x1:1.9807, x2:0.1028, h(x1, x2):-2.0009\n",
      "[0.9974, 0.9856, 0.9947, 0.9965, 0.4798, 0.6624, 0.9038, 0.1597], x1:1.9807, x2:0.1028, h(x1, x2):-2.0009\n",
      "[0.9974, 0.9856, 0.9947, 0.9965, 0.4798, 0.6624, 0.7975, 0.1597], x1:1.9807, x2:0.0497, h(x1, x2):-1.9956\n",
      "[0.9974, 0.9856, 0.9947, 0.9965, 0.4798, 0.6624, 0.7975, 0.1597], x1:1.9807, x2:0.0497, h(x1, x2):-1.9956\n",
      "[0.9974, 0.9856, 0.9947, 0.9965, 0.4798, 0.6624, 0.7975, 0.1597], x1:1.9807, x2:0.0497, h(x1, x2):-1.9956\n",
      "[0.9974, 0.9856, 0.9947, 0.9965, 0.4798, 0.6624, 0.7975, 0.1597], x1:1.9807, x2:0.0497, h(x1, x2):-1.9956\n",
      "[0.9974, 0.9856, 0.9947, 0.9965, 0.4798, 0.6624, 0.9038, 0.1597], x1:1.9807, x2:0.1028, h(x1, x2):-2.0009\n",
      "[0.9974, 0.9856, 0.9947, 0.9965, 0.4798, 0.6624, 0.9038, 0.1597], x1:1.9807, x2:0.1028, h(x1, x2):-2.0009\n",
      "[0.9974, 0.9856, 0.9947, 0.9965, 0.4798, 0.6624, 0.9038, 0.1597], x1:1.9807, x2:0.1028, h(x1, x2):-2.0009\n",
      "[0.9974, 0.9856, 0.9947, 0.9965, 0.4798, 0.6624, 0.9038, 0.1597], x1:1.9807, x2:0.1028, h(x1, x2):-2.0009\n",
      "[0.1283, 0.9856, 0.9947, 0.9965, 0.4798, 0.6624, 0.7025, 0.1597], x1:1.3288, x2:0.0022, h(x1, x2):-1.3283\n",
      "[0.1283, 0.9856, 0.9947, 0.9965, 0.4798, 0.6624, 0.9038, 0.1597], x1:1.3288, x2:0.1028, h(x1, x2):-1.2903\n",
      "[0.9974, 0.9856, 0.9947, 0.9965, 0.4798, 0.6624, 0.9038, 0.1597], x1:1.9807, x2:0.1028, h(x1, x2):-2.0009\n",
      "[0.9974, 0.9856, 0.9947, 0.9965, 0.4798, 0.6624, 0.9038, 0.1597], x1:1.9807, x2:0.1028, h(x1, x2):-2.0009\n",
      "[0.9974, 0.9856, 0.9947, 0.9965, 0.4798, 0.6624, 0.9038, 0.1597], x1:1.9807, x2:0.1028, h(x1, x2):-2.0009\n",
      "[0.9974, 0.9856, 0.9947, 0.9965, 0.4798, 0.6624, 0.9038, 0.1597], x1:1.9807, x2:0.1028, h(x1, x2):-2.0009\n",
      "[0.9974, 0.9856, 0.9947, 0.9965, 0.4798, 0.6624, 0.9038, 0.1597], x1:1.9807, x2:0.1028, h(x1, x2):-2.0009\n",
      "[0.9974, 0.9856, 0.9947, 0.592, 0.4798, 0.6624, 0.9038, 0.1597], x1:1.6773, x2:0.1028, h(x1, x2):-1.6707\n",
      "[0.9974, 0.9856, 0.9947, 0.592, 0.4798, 0.6624, 0.9038, 0.1597], x1:1.6773, x2:0.1028, h(x1, x2):-1.6707\n"
     ]
    },
    {
     "data": {
      "image/png": "[encoded data removed]",
      "text/plain": [
       "<Figure size 432x288 with 1 Axes>"
      ]
     },
     "metadata": {
      "needs_background": "light"
     },
     "output_type": "display_data"
    }
   ],
   "source": [
    "print('Generational Replacement')\n",
    "output_result(True, 500, 15, 8, 50, 65, 2, 2)"
   ]
  },
  {
   "cell_type": "code",
   "execution_count": 19,
   "metadata": {},
   "outputs": [
    {
     "name": "stdout",
     "output_type": "stream",
     "text": [
      "Steady State\n",
      "Parameters\n",
      "Max Iteration: 500\n",
      "Selection Iteration: 15\n",
      "Number of chromosome: 8\n",
      "Number of population: 50\n",
      "Crossover Probablilty: 65%\n",
      "Mutation Probability: 2%\n",
      "Best Result\n",
      "[0.6546, 0.8993, 0.9653, 0.819, 0.0021, 0.4754, 0.8955, 0.5507], x1:1.5036, x2:-0.0382, h(x1, x2):-1.504\n",
      "Results\n",
      "[0.6546, 0.8993, 0.9653, 0.819, 0.0021, 0.4754, 0.8955, 0.5507], x1:1.5036, x2:-0.0382, h(x1, x2):-1.504\n",
      "[0.6546, 0.8993, 0.9653, 0.819, 0.0021, 0.4754, 0.8955, 0.5507], x1:1.5036, x2:-0.0382, h(x1, x2):-1.504\n",
      "[0.6546, 0.8993, 0.9653, 0.819, 0.0021, 0.4754, 0.8955, 0.5507], x1:1.5036, x2:-0.0382, h(x1, x2):-1.504\n",
      "[0.6546, 0.8993, 0.9653, 0.819, 0.0021, 0.4754, 0.8955, 0.5507], x1:1.5036, x2:-0.0382, h(x1, x2):-1.504\n",
      "[0.6546, 0.8993, 0.9653, 0.819, 0.0021, 0.4754, 0.8955, 0.5507], x1:1.5036, x2:-0.0382, h(x1, x2):-1.504\n",
      "[0.6546, 0.8993, 0.9653, 0.819, 0.0021, 0.4754, 0.8955, 0.5507], x1:1.5036, x2:-0.0382, h(x1, x2):-1.504\n",
      "[0.6546, 0.8993, 0.9653, 0.819, 0.0021, 0.4754, 0.8955, 0.5507], x1:1.5036, x2:-0.0382, h(x1, x2):-1.504\n",
      "[0.6546, 0.8993, 0.9653, 0.819, 0.0021, 0.4754, 0.8955, 0.5507], x1:1.5036, x2:-0.0382, h(x1, x2):-1.504\n",
      "[0.6546, 0.8993, 0.9653, 0.819, 0.0021, 0.4754, 0.8955, 0.5507], x1:1.5036, x2:-0.0382, h(x1, x2):-1.504\n",
      "[0.6546, 0.8993, 0.9653, 0.819, 0.0021, 0.4754, 0.8955, 0.5507], x1:1.5036, x2:-0.0382, h(x1, x2):-1.504\n",
      "[0.6546, 0.8993, 0.9653, 0.819, 0.0021, 0.4754, 0.8955, 0.5507], x1:1.5036, x2:-0.0382, h(x1, x2):-1.504\n",
      "[0.6546, 0.8993, 0.9653, 0.819, 0.0021, 0.4754, 0.8955, 0.5507], x1:1.5036, x2:-0.0382, h(x1, x2):-1.504\n",
      "[0.6546, 0.8993, 0.9653, 0.819, 0.0021, 0.4754, 0.8955, 0.5507], x1:1.5036, x2:-0.0382, h(x1, x2):-1.504\n",
      "[0.6546, 0.8993, 0.9653, 0.819, 0.0021, 0.4754, 0.8955, 0.5507], x1:1.5036, x2:-0.0382, h(x1, x2):-1.504\n",
      "[0.6546, 0.8993, 0.9653, 0.819, 0.0021, 0.4754, 0.8955, 0.5507], x1:1.5036, x2:-0.0382, h(x1, x2):-1.504\n",
      "[0.6546, 0.8993, 0.9653, 0.819, 0.0021, 0.4754, 0.8955, 0.5507], x1:1.5036, x2:-0.0382, h(x1, x2):-1.504\n",
      "[0.6546, 0.8993, 0.9653, 0.819, 0.0021, 0.4754, 0.8955, 0.5507], x1:1.5036, x2:-0.0382, h(x1, x2):-1.504\n",
      "[0.6546, 0.8993, 0.9653, 0.819, 0.0021, 0.4754, 0.8955, 0.5507], x1:1.5036, x2:-0.0382, h(x1, x2):-1.504\n",
      "[0.6546, 0.8993, 0.9653, 0.819, 0.0021, 0.4754, 0.8955, 0.5507], x1:1.5036, x2:-0.0382, h(x1, x2):-1.504\n",
      "[0.6546, 0.8993, 0.9653, 0.819, 0.0021, 0.4754, 0.8955, 0.5507], x1:1.5036, x2:-0.0382, h(x1, x2):-1.504\n",
      "[0.6546, 0.8993, 0.9653, 0.819, 0.0021, 0.4754, 0.8955, 0.5507], x1:1.5036, x2:-0.0382, h(x1, x2):-1.504\n",
      "[0.6546, 0.8993, 0.9653, 0.819, 0.0021, 0.4754, 0.8955, 0.5507], x1:1.5036, x2:-0.0382, h(x1, x2):-1.504\n",
      "[0.6546, 0.8993, 0.9653, 0.819, 0.0021, 0.4754, 0.8955, 0.5507], x1:1.5036, x2:-0.0382, h(x1, x2):-1.504\n",
      "[0.6546, 0.8993, 0.9653, 0.819, 0.0021, 0.4754, 0.8955, 0.5507], x1:1.5036, x2:-0.0382, h(x1, x2):-1.504\n",
      "[0.6546, 0.8993, 0.9653, 0.819, 0.0021, 0.4754, 0.8955, 0.5507], x1:1.5036, x2:-0.0382, h(x1, x2):-1.504\n",
      "[0.6546, 0.8993, 0.9653, 0.819, 0.0021, 0.4754, 0.8955, 0.5507], x1:1.5036, x2:-0.0382, h(x1, x2):-1.504\n",
      "[0.6546, 0.8993, 0.9653, 0.819, 0.0021, 0.4754, 0.8955, 0.5507], x1:1.5036, x2:-0.0382, h(x1, x2):-1.504\n",
      "[0.6546, 0.8993, 0.9653, 0.819, 0.0021, 0.4754, 0.8955, 0.5507], x1:1.5036, x2:-0.0382, h(x1, x2):-1.504\n",
      "[0.6546, 0.8993, 0.9653, 0.819, 0.0021, 0.4754, 0.8955, 0.5507], x1:1.5036, x2:-0.0382, h(x1, x2):-1.504\n",
      "[0.6546, 0.8993, 0.9653, 0.819, 0.0021, 0.4754, 0.8955, 0.5507], x1:1.5036, x2:-0.0382, h(x1, x2):-1.504\n",
      "[0.6546, 0.8993, 0.9653, 0.819, 0.0021, 0.4754, 0.8955, 0.5507], x1:1.5036, x2:-0.0382, h(x1, x2):-1.504\n",
      "[0.6546, 0.8993, 0.9653, 0.819, 0.0021, 0.4754, 0.8955, 0.5507], x1:1.5036, x2:-0.0382, h(x1, x2):-1.504\n",
      "[0.0593, 0.5765, 0.2981, 0.1499, 0.8703, 0.9573, 0.2934, 0.7188], x1:-0.1872, x2:0.4199, h(x1, x2):0.5597\n",
      "[0.6546, 0.8993, 0.9653, 0.819, 0.0021, 0.4754, 0.8955, 0.5507], x1:1.5036, x2:-0.0382, h(x1, x2):-1.504\n",
      "[0.6546, 0.8993, 0.9653, 0.819, 0.0021, 0.4754, 0.8955, 0.5507], x1:1.5036, x2:-0.0382, h(x1, x2):-1.504\n",
      "[0.6546, 0.8993, 0.9653, 0.819, 0.0021, 0.4754, 0.8955, 0.5507], x1:1.5036, x2:-0.0382, h(x1, x2):-1.504\n",
      "[0.6546, 0.8993, 0.9653, 0.819, 0.0021, 0.4754, 0.8955, 0.5507], x1:1.5036, x2:-0.0382, h(x1, x2):-1.504\n",
      "[0.6546, 0.8993, 0.9653, 0.819, 0.0021, 0.4754, 0.8955, 0.5507], x1:1.5036, x2:-0.0382, h(x1, x2):-1.504\n",
      "[0.6546, 0.8993, 0.9653, 0.819, 0.0021, 0.4754, 0.8955, 0.5507], x1:1.5036, x2:-0.0382, h(x1, x2):-1.504\n",
      "[0.6546, 0.8993, 0.9653, 0.819, 0.0021, 0.4754, 0.8955, 0.5507], x1:1.5036, x2:-0.0382, h(x1, x2):-1.504\n",
      "[0.6546, 0.8993, 0.9653, 0.819, 0.0021, 0.4754, 0.8955, 0.5507], x1:1.5036, x2:-0.0382, h(x1, x2):-1.504\n",
      "[0.6546, 0.8993, 0.9653, 0.819, 0.0021, 0.4754, 0.8955, 0.5507], x1:1.5036, x2:-0.0382, h(x1, x2):-1.504\n",
      "[0.6546, 0.8993, 0.9653, 0.819, 0.0021, 0.4754, 0.8955, 0.5507], x1:1.5036, x2:-0.0382, h(x1, x2):-1.504\n",
      "[0.6546, 0.8993, 0.9653, 0.819, 0.0021, 0.4754, 0.8955, 0.5507], x1:1.5036, x2:-0.0382, h(x1, x2):-1.504\n",
      "[0.6546, 0.8993, 0.9653, 0.819, 0.0021, 0.4754, 0.8955, 0.5507], x1:1.5036, x2:-0.0382, h(x1, x2):-1.504\n",
      "[0.6546, 0.8993, 0.9653, 0.819, 0.0021, 0.4754, 0.8955, 0.5507], x1:1.5036, x2:-0.0382, h(x1, x2):-1.504\n",
      "[0.6546, 0.8993, 0.9653, 0.819, 0.0021, 0.4754, 0.8955, 0.5507], x1:1.5036, x2:-0.0382, h(x1, x2):-1.504\n",
      "[0.6546, 0.8993, 0.9653, 0.819, 0.0021, 0.4754, 0.8955, 0.5507], x1:1.5036, x2:-0.0382, h(x1, x2):-1.504\n",
      "[0.6546, 0.8993, 0.9653, 0.819, 0.0021, 0.4754, 0.8955, 0.5507], x1:1.5036, x2:-0.0382, h(x1, x2):-1.504\n",
      "[0.6546, 0.8993, 0.9653, 0.819, 0.0021, 0.4754, 0.8955, 0.5507], x1:1.5036, x2:-0.0382, h(x1, x2):-1.504\n"
     ]
    },
    {
     "data": {
      "image/png": "[encoded data removed]",
      "text/plain": [
       "<Figure size 432x288 with 1 Axes>"
      ]
     },
     "metadata": {
      "needs_background": "light"
     },
     "output_type": "display_data"
    }
   ],
   "source": [
    "print('Steady State')\n",
    "output_result(False, 500, 15, 8, 50, 65, 2)"
   ]
  }
 ],
 "metadata": {
  "kernelspec": {
   "display_name": "Python 3",
   "language": "python",
   "name": "python3"
  },
  "language_info": {
   "codemirror_mode": {
    "name": "ipython",
    "version": 3
   },
   "file_extension": ".py",
   "mimetype": "text/x-python",
   "name": "python",
   "nbconvert_exporter": "python",
   "pygments_lexer": "ipython3",
   "version": "3.7.6"
  }
 },
 "nbformat": 4,
 "nbformat_minor": 4
}
