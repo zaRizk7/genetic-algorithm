{
 "cells": [
  {
   "cell_type": "code",
   "execution_count": 1,
   "metadata": {},
   "outputs": [],
   "source": [
    "from numpy import sin, cos, random as rn, array"
   ]
  },
  {
   "cell_type": "code",
   "execution_count": 2,
   "metadata": {},
   "outputs": [],
   "source": [
    "'''\n",
    "Defined Function\n",
    "'''\n",
    "def h(x1, x2):\n",
    "    assert -1 <= x1 <= 2, 'Outside defined limit for x1!'\n",
    "    assert -1 <= x2 <= 1, 'Outside defined limit for x2!'\n",
    "    return cos(x1) * sin(x2) - x1 / (x2 ** 2 + 1)"
   ]
  },
  {
   "cell_type": "code",
   "execution_count": 72,
   "metadata": {},
   "outputs": [],
   "source": [
    "'''\n",
    "Used to generate a phenotype based on generated genotype\n",
    "'''\n",
    "def x(r_min, r_max, gens):\n",
    "    assert r_min <= r_max, 'Minimum limit must be lesser than maximum limit!'\n",
    "    g_sum = sum(gens)\n",
    "    N = len(gens)\n",
    "    return r_min + (r_max - r_min) * g_sum / N"
   ]
  },
  {
   "cell_type": "code",
   "execution_count": 4,
   "metadata": {
    "tags": []
   },
   "outputs": [],
   "source": [
    "'''\n",
    "Generate genotype based on random real number\n",
    "'''\n",
    "def generate_genotype(m, n):\n",
    "    assert m >= 0, 'Accepts positive integers!'\n",
    "    assert m % 2 == 0, 'Accepts even integers!'\n",
    "    return [[rn.random() for i in range(m)] for i in range(2**n)]"
   ]
  },
  {
   "cell_type": "code",
   "execution_count": 5,
   "metadata": {
    "tags": []
   },
   "outputs": [],
   "source": [
    "'''\n",
    "Generate list of phenotype based on genotype given\n",
    "'''\n",
    "def generate_phenotype(gene):\n",
    "    N = len(gene)\n",
    "    x1 = x(-1, 2, gene[0:N//2])\n",
    "    x2 = x(-1, 1, gene[N//2:N])\n",
    "    return x1, x2"
   ]
  },
  {
   "cell_type": "code",
   "execution_count": 6,
   "metadata": {},
   "outputs": [],
   "source": [
    "'''\n",
    "Returns minimum fitness value. If x1 and x2 is outside boundary,\n",
    "then it will return 0 and determined formula if it is within.\n",
    "'''\n",
    "def fitness(x1, x2):\n",
    "    try:\n",
    "        return -h(x1, x2)\n",
    "    except:\n",
    "        return 0"
   ]
  },
  {
   "cell_type": "code",
   "execution_count": 7,
   "metadata": {
    "tags": []
   },
   "outputs": [],
   "source": [
    "'''\n",
    "Calculate fitness of a gene\n",
    "'''\n",
    "def calculate_gene_fitness(gene):\n",
    "    x1, x2 = generate_phenotype(gene)\n",
    "    return fitness(x1, x2)"
   ]
  },
  {
   "cell_type": "code",
   "execution_count": 8,
   "metadata": {},
   "outputs": [],
   "source": [
    "'''\n",
    "Evaluate fitness value of entire genes\n",
    "'''\n",
    "def evaluate_genes(genes):\n",
    "    phenotypes = [generate_phenotype(gene) for gene in genes]\n",
    "    genes_fitness = [fitness(x1, x2) for x1, x2 in phenotypes]\n",
    "    evaluated_result = sum(genes_fitness) \n",
    "    return evaluated_result"
   ]
  },
  {
   "cell_type": "code",
   "execution_count": 9,
   "metadata": {},
   "outputs": [],
   "source": [
    "'''\n",
    "Sort genes based on its fitness value\n",
    "'''\n",
    "def sort_genes(genes):\n",
    "    return sorted(genes, key=lambda gene: calculate_gene_fitness(gene))"
   ]
  },
  {
   "cell_type": "code",
   "execution_count": 76,
   "metadata": {
    "tags": []
   },
   "outputs": [],
   "source": [
    "'''\n",
    "Tournament selection for selecting best parents,\n",
    "it will do k iteration to find values that is\n",
    "suitable based on its fitness value\n",
    "'''\n",
    "def selection(genes, k):\n",
    "    copied_genes = genes.copy()\n",
    "    best = []\n",
    "    best_fitness = 0\n",
    "    for i in range(k):\n",
    "        random_index = rn.randint(len(copied_genes))\n",
    "        indv_gene = copied_genes[random_index]\n",
    "        indv_fitness = calculate_gene_fitness(indv_gene)\n",
    "        if len(best) == 0 or indv_fitness > best_fitness:\n",
    "            copied_genes.pop(random_index)\n",
    "            best.append(indv_gene)\n",
    "            best_fitness = indv_fitness\n",
    "    return best"
   ]
  },
  {
   "cell_type": "code",
   "execution_count": 11,
   "metadata": {
    "tags": []
   },
   "outputs": [],
   "source": [
    "'''\n",
    "Crossover for genes, by default has probability of 65%\n",
    "'''\n",
    "def crossover(genes, pc):\n",
    "    N = len(genes[0])\n",
    "    crossed_genes = []\n",
    "    while len(crossed_genes) < len(genes):\n",
    "        cross_probability = rn.randint(0, 101)\n",
    "        i = len(crossed_genes)\n",
    "        new_gene = genes[i].copy()\n",
    "        random_i = rn.randint(len(genes))\n",
    "        if cross_probability <= pc and random_i != i:            \n",
    "            random_gene = genes[random_i].copy()\n",
    "            new_gene[0:N//2-1], random_gene[0:N//2+1] = random_gene[N//2+1:N], new_gene[N//2-1:N]\n",
    "        crossed_genes.append(new_gene)\n",
    "    return crossed_genes"
   ]
  },
  {
   "cell_type": "code",
   "execution_count": 12,
   "metadata": {
    "tags": []
   },
   "outputs": [],
   "source": [
    "'''\n",
    "Mutation for genes, by default has probability of 1%\n",
    "'''\n",
    "def mutation(genes, pm):\n",
    "    mutated_genes = []\n",
    "    N = len(genes[0])\n",
    "    for i in range(len(genes)):\n",
    "        mutation_probability = rn.randint(0, 101)\n",
    "        gene = genes[i].copy()\n",
    "        if mutation_probability <= pm:\n",
    "            random_i = rn.randint(N)\n",
    "            gene[random_i] = rn.random()\n",
    "        mutated_genes.append(gene)\n",
    "    return mutated_genes"
   ]
  },
  {
   "cell_type": "code",
   "execution_count": 287,
   "metadata": {},
   "outputs": [],
   "source": [
    "def elitism(genes, k):\n",
    "    sorted_genes = sort_genes(genes)\n",
    "    return genes[-k:]"
   ]
  },
  {
   "cell_type": "code",
   "execution_count": 363,
   "metadata": {
    "tags": []
   },
   "outputs": [
    {
     "data": {
      "text/plain": [
       "(1.4144623353167587, 0.06740915010652171, -1.3975765807274574)"
      ]
     },
     "execution_count": 363,
     "metadata": {},
     "output_type": "execute_result"
    }
   ],
   "source": [
    "def generational_replacement_ga(k, m, n, o, pc, pm):\n",
    "    N = 2 ** n\n",
    "    genes = generate_genotype(m, n)\n",
    "    for i in range(N):\n",
    "        new_genes = elitism(genes, 2)\n",
    "        while len(new_genes) < N:\n",
    "            parents = selection(genes, k)\n",
    "            offspring = crossover(parents, pc)\n",
    "            offspring = mutation(offspring, pm)\n",
    "            new_genes.extend(offspring)\n",
    "        genes = new_genes\n",
    "    best = max(genes, key=lambda gene: calculate_gene_fitness(gene))\n",
    "    x1, x2 = generate_phenotype(best)\n",
    "    return x1, x2, h(x1, x2)\n",
    "\n",
    "generational_replacement_ga(10, 6, 4, 2, 65, 1)"
   ]
  },
  {
   "cell_type": "code",
   "execution_count": 64,
   "metadata": {},
   "outputs": [],
   "source": [
    "'''\n",
    "Steady state process for survivor selection\n",
    "'''\n",
    "def steady_state(genes, offspring):\n",
    "    N = len(offspring)\n",
    "    worst_genes = sort_genes(genes)[N:]\n",
    "    replaced_index = []\n",
    "    for i in range(N):\n",
    "        genes.remove(worst_genes[i])\n",
    "        genes.append(offspring[i])\n",
    "    return genes"
   ]
  },
  {
   "cell_type": "code",
   "execution_count": 366,
   "metadata": {
    "tags": []
   },
   "outputs": [
    {
     "data": {
      "text/plain": [
       "(1.585985657031718, 0.21819598451408773, -1.517197103614921)"
      ]
     },
     "execution_count": 366,
     "metadata": {},
     "output_type": "execute_result"
    }
   ],
   "source": [
    "def steady_state_ga(k = 10, m = 6, n = 4):\n",
    "    genes = generate_genotype(m, n)\n",
    "    for i in range(2**n):\n",
    "        evaluated_fitness = evaluate_genes(genes)\n",
    "        parents = selection(genes, k)\n",
    "        offspring = crossover(parents, 65)\n",
    "        offspring = mutation(parents, 1)\n",
    "        genes = sort_genes(genes)\n",
    "        genes = steady_state(genes, offspring)\n",
    "    best = max(genes, key=lambda gene: calculate_gene_fitness(gene))\n",
    "    x1, x2 = generate_phenotype(best)\n",
    "    return x1, x2, h(x1, x2)\n",
    "\n",
    "steady_state_ga(10, 6, 4)"
   ]
  }
 ],
 "metadata": {
  "kernelspec": {
   "display_name": "Python 3",
   "language": "python",
   "name": "python3"
  },
  "language_info": {
   "codemirror_mode": {
    "name": "ipython",
    "version": 3
   },
   "file_extension": ".py",
   "mimetype": "text/x-python",
   "name": "python",
   "nbconvert_exporter": "python",
   "pygments_lexer": "ipython3",
   "version": "3.7.6"
  }
 },
 "nbformat": 4,
 "nbformat_minor": 4
}
