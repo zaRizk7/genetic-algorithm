{
 "cells": [
  {
   "cell_type": "code",
   "execution_count": 1,
   "metadata": {},
   "outputs": [],
   "source": [
    "from numpy import sin, cos, random as rn, array"
   ]
  },
  {
   "cell_type": "code",
   "execution_count": 2,
   "metadata": {},
   "outputs": [],
   "source": [
    "'''\n",
    "Defined Function\n",
    "'''\n",
    "def h(x1, x2):\n",
    "    assert -1 <= x1 <= 2, 'Outside defined limit for x1!'\n",
    "    assert -1 <= x2 <= 1, 'Outside defined limit for x2!'\n",
    "    return cos(x1) * sin(x2) - x1 / (x2 ** 2 + 1)"
   ]
  },
  {
   "cell_type": "code",
   "execution_count": 3,
   "metadata": {},
   "outputs": [],
   "source": [
    "'''\n",
    "Used to decode chromosome\n",
    "'''\n",
    "def x(r_min, r_max, gens):\n",
    "    assert r_min <= r_max, 'Minimum limit must be lesser than maximum limit!'\n",
    "    g_sum = sum(gens)\n",
    "    N = len(gens)\n",
    "    return r_min + (r_max - r_min) * g_sum / N"
   ]
  },
  {
   "cell_type": "code",
   "execution_count": 4,
   "metadata": {
    "tags": []
   },
   "outputs": [],
   "source": [
    "'''\n",
    "Generate chromosome based on random real number with size m,\n",
    "for each population and n for the total of population\n",
    "'''\n",
    "def generate_population(m, n):\n",
    "    assert m >= 0, 'Accepts positive integers!'\n",
    "    assert m % 2 == 0, 'Accepts even integers!'\n",
    "    return [[rn.random() for i in range(m)] for i in range(n)]"
   ]
  },
  {
   "cell_type": "code",
   "execution_count": 5,
   "metadata": {
    "tags": []
   },
   "outputs": [],
   "source": [
    "'''\n",
    "Decode the chromosomes into two values, x1 and x2\n",
    "'''\n",
    "def decode(chromosome):\n",
    "    N = len(chromosome)\n",
    "    x1 = x(-1, 2, chromosome[0:N//2])\n",
    "    x2 = x(-1, 1, chromosome[N//2:N])\n",
    "    return x1, x2"
   ]
  },
  {
   "cell_type": "code",
   "execution_count": 6,
   "metadata": {},
   "outputs": [],
   "source": [
    "'''\n",
    "Returns minimum fitness value. If x1 and x2 is outside boundary,\n",
    "then it will return 0 and determined formula if it is within.\n",
    "'''\n",
    "def fitness(x1, x2):\n",
    "    try:\n",
    "        return -h(x1, x2)\n",
    "    except:\n",
    "        return 0"
   ]
  },
  {
   "cell_type": "code",
   "execution_count": 7,
   "metadata": {
    "tags": []
   },
   "outputs": [],
   "source": [
    "'''\n",
    "Calculate fitness of a chromosome\n",
    "'''\n",
    "def chromosome_fitness(chromosome):\n",
    "    x1, x2 = decode(chromosome)\n",
    "    return fitness(x1, x2)"
   ]
  },
  {
   "cell_type": "code",
   "execution_count": 8,
   "metadata": {},
   "outputs": [],
   "source": [
    "'''\n",
    "Evaluate fitness value of entire population\n",
    "'''\n",
    "def evaluate(populations):\n",
    "    population_decode = [decode(p) for p in population]\n",
    "    chromosome_fitness = [fitness(x1, x2) for x1, x2 in population_decode]\n",
    "    result = sum(chromosome_fitness) \n",
    "    return result"
   ]
  },
  {
   "cell_type": "code",
   "execution_count": 9,
   "metadata": {},
   "outputs": [],
   "source": [
    "'''\n",
    "Sort genes based on its fitness value\n",
    "'''\n",
    "def sort_population(population):\n",
    "    return sorted(population, key=lambda chromosome: chromosome_fitness(chromosome))"
   ]
  },
  {
   "cell_type": "code",
   "execution_count": 10,
   "metadata": {
    "tags": []
   },
   "outputs": [],
   "source": [
    "'''\n",
    "Tournament selection for selecting best parents,\n",
    "it will do k iteration to find values that is\n",
    "suitable based on its fitness value\n",
    "'''\n",
    "def selection(population, k):\n",
    "    population_copy = population.copy()\n",
    "    best = []\n",
    "    best_fitness = 0\n",
    "    for i in range(k):\n",
    "        random_index = rn.randint(len(population_copy))\n",
    "        chromosome_individual = population_copy[random_index]\n",
    "        fitness_individual = chromosome_fitness(chromosome_individual)\n",
    "        if len(best) == 0 or fitness_individual > best_fitness:\n",
    "            population_copy.pop(random_index)\n",
    "            best.append(chromosome_individual)\n",
    "            best_fitness = fitness_individual\n",
    "    return best"
   ]
  },
  {
   "cell_type": "code",
   "execution_count": 11,
   "metadata": {
    "tags": []
   },
   "outputs": [],
   "source": [
    "'''\n",
    "Crossover for population or parents\n",
    "'''\n",
    "def crossover(population, pc):\n",
    "    N = len(population[0])\n",
    "    population_cross = []\n",
    "    while len(population_cross) < len(population):\n",
    "        cross_probability = rn.randint(0, 101)\n",
    "        i = len(population_cross)\n",
    "        chromosome_new = population[i].copy()\n",
    "        random_i = rn.randint(len(population))\n",
    "        if cross_probability <= pc and random_i != i:            \n",
    "            chromosome_random = population[random_i].copy()\n",
    "            chromosome_new[0:N//2-1], chromosome_random[0:N//2+1] = chromosome_random[N//2+1:N], chromosome_new[N//2-1:N]\n",
    "        population_cross.append(chromosome_new)\n",
    "    return population_cross"
   ]
  },
  {
   "cell_type": "code",
   "execution_count": 12,
   "metadata": {
    "tags": []
   },
   "outputs": [],
   "source": [
    "'''\n",
    "Mutation for population or offspring\n",
    "'''\n",
    "def mutation(population, pm):\n",
    "    population_mutate = []\n",
    "    N = len(population[0])\n",
    "    for i in range(len(population)):\n",
    "        probability_mutation = rn.randint(0, 101)\n",
    "        chromosome = population[i].copy()\n",
    "        if probability_mutation <= pm:\n",
    "            random_i = rn.randint(N)\n",
    "            chromosome[random_i] = rn.random()\n",
    "        population_mutate.append(chromosome)\n",
    "    return population_mutate"
   ]
  },
  {
   "cell_type": "code",
   "execution_count": 13,
   "metadata": {},
   "outputs": [],
   "source": [
    "'''\n",
    "Elitism is used to fetch k chromosomes with the best fitness value\n",
    "'''\n",
    "def elitism(population, k):\n",
    "    population_sort = sort_population(population)\n",
    "    return population_sort[-k:]"
   ]
  },
  {
   "cell_type": "code",
   "execution_count": 69,
   "metadata": {
    "tags": []
   },
   "outputs": [],
   "source": [
    "'''\n",
    "Generational Replacement for Genetic Algorithm\n",
    "'''\n",
    "def generational_replacement_ga(max_count, selection_count, chromosome_count, population_count, elite_count, pc, pm):\n",
    "    population = generate_population(chromosome_count, population_count)\n",
    "    for i in range(max_count):\n",
    "        new_population = elitism(population, elite_count)\n",
    "        while len(new_population) < population_count:\n",
    "            parents = selection(population, selection_count)\n",
    "            offspring = crossover(parents, pc)\n",
    "            offspring = mutation(offspring, pm)\n",
    "            new_population.extend(offspring)\n",
    "        population = new_population\n",
    "    return population"
   ]
  },
  {
   "cell_type": "code",
   "execution_count": 15,
   "metadata": {},
   "outputs": [],
   "source": [
    "'''\n",
    "Steady state replaces the population with worst fitness value\n",
    "with offsprings from parent selection\n",
    "'''\n",
    "def steady_state(population, offspring):\n",
    "    N = len(offspring)\n",
    "    population_worst = sort_population(population)[N:]\n",
    "    for i in range(N):\n",
    "        population.remove(population_worst[i])\n",
    "        population.append(offspring[i])\n",
    "    return population"
   ]
  },
  {
   "cell_type": "code",
   "execution_count": 70,
   "metadata": {
    "tags": []
   },
   "outputs": [],
   "source": [
    "'''\n",
    "Fitness Based Steady State for Genetic Algorithm\n",
    "'''\n",
    "def steady_state_ga(max_count, selection_count, chromosome_count, population_count, pc, pm):\n",
    "    population = generate_population(chromosome_count, population_count)\n",
    "    for i in range(max_count):\n",
    "        parents = selection(population, selection_count)\n",
    "        offspring = crossover(parents, pc)\n",
    "        offspring = mutation(parents, pm)\n",
    "        population = steady_state(population, offspring)\n",
    "    return population"
   ]
  },
  {
   "cell_type": "code",
   "execution_count": 71,
   "metadata": {},
   "outputs": [],
   "source": [
    "'''\n",
    "Output the result based on the defined hyperparameter\n",
    "'''\n",
    "def output_result(is_generational_replacement, max_count, selection_count, chromosome_count, population_count, pc, pm, elite_count = 0):\n",
    "    population = steady_state_ga(max_count, selection_count, chromosome_count, population_count, pc, pm)\n",
    "    if is_generational_replacement:\n",
    "        population = generational_replacement_ga(max_count, selection_count, chromosome_count, population_count, elite_count, pc, pm)\n",
    "    best_chromosome = max(population, key=lambda chromosome: chromosome_fitness(chromosome))\n",
    "    best_chromosome = [round(gen, 4) for gen in best_chromosome]\n",
    "    x1, x2 = decode(best_chromosome)\n",
    "    x1, x2 = round(x1, 4), round(x2, 4)\n",
    "    best_result = round(h(x1, x2), 4)\n",
    "    print('Parameters')\n",
    "    print(f'Max Iteration: {max_count}')\n",
    "    print(f'Selection Iteration: {selection_count}')\n",
    "    print(f'Number of chromosome: {chromosome_count}')\n",
    "    print(f'Number of population: {population_count}')\n",
    "    if is_generational_replacement:\n",
    "        print(f'Number of elites: {elite_count}')\n",
    "    print(f'Crossover Probablilty: {pc}%')\n",
    "    print(f'Mutation Probability: {pm}%')\n",
    "    print('Best Result')\n",
    "    print(f'{best_chromosome}, x1:{x1}, x2:{x2}, h(x1, x2):{best_result}')\n",
    "    print('Results')\n",
    "    for chromosome in population:\n",
    "        chromosome = [round(gen, 4) for gen in chromosome]\n",
    "        x1, x2 = decode(chromosome)\n",
    "        x1, x2 = round(x1, 4), round(x2, 4)\n",
    "        result = round(h(x1, x2), 4)\n",
    "        print(f'{chromosome}, x1:{x1}, x2:{x2}, h(x1, x2):{result}')"
   ]
  },
  {
   "cell_type": "code",
   "execution_count": 95,
   "metadata": {},
   "outputs": [
    {
     "name": "stdout",
     "output_type": "stream",
     "text": [
      "Generational Replacement\n",
      "Parameters\n",
      "Max Iteration: 512\n",
      "Selection Iteration: 16\n",
      "Number of chromosome: 8\n",
      "Number of population: 64\n",
      "Number of elites: 2\n",
      "Crossover Probablilty: 64%\n",
      "Mutation Probability: 2%\n",
      "Best Result\n",
      "[0.9983, 0.985, 0.9998, 0.9958, 0.2559, 0.3767, 0.6846, 0.8916], x1:1.9842, x2:0.1044, h(x1, x2):-2.0047\n",
      "Results\n",
      "[0.9983, 0.985, 0.9998, 0.9958, 0.2559, 0.3767, 0.6846, 0.8916], x1:1.9842, x2:0.1044, h(x1, x2):-2.0047\n",
      "[0.9983, 0.985, 0.9998, 0.9958, 0.2559, 0.3767, 0.6846, 0.8916], x1:1.9842, x2:0.1044, h(x1, x2):-2.0047\n",
      "[0.3767, 0.6846, 0.8916, 0.9958, 0.2559, 0.3767, 0.6846, 0.4646], x1:1.2115, x2:-0.1091, h(x1, x2):-1.2355\n",
      "[0.3767, 0.6846, 0.8916, 0.5502, 0.2559, 0.3767, 0.6846, 0.8916], x1:0.8773, x2:0.1044, h(x1, x2):-0.8012\n",
      "[0.3767, 0.6846, 0.8916, 0.9958, 0.2559, 0.3767, 0.2049, 0.8916], x1:1.2115, x2:-0.1355, h(x1, x2):-1.2372\n",
      "[0.9983, 0.985, 0.9998, 0.9958, 0.2559, 0.3767, 0.6846, 0.8916], x1:1.9842, x2:0.1044, h(x1, x2):-2.0047\n",
      "[0.9983, 0.985, 0.9998, 0.9958, 0.2559, 0.3767, 0.6846, 0.8916], x1:1.9842, x2:0.1044, h(x1, x2):-2.0047\n",
      "[0.9983, 0.985, 0.9998, 0.9958, 0.2559, 0.21, 0.6846, 0.8916], x1:1.9842, x2:0.0211, h(x1, x2):-1.9918\n",
      "[0.9983, 0.985, 0.9998, 0.9958, 0.2559, 0.3767, 0.6846, 0.8916], x1:1.9842, x2:0.1044, h(x1, x2):-2.0047\n",
      "[0.3767, 0.6846, 0.8916, 0.0734, 0.2559, 0.3767, 0.6846, 0.8916], x1:0.5197, x2:0.1044, h(x1, x2):-0.4236\n",
      "[0.3767, 0.6846, 0.8916, 0.9958, 0.2559, 0.3767, 0.6846, 0.8916], x1:1.2115, x2:0.1044, h(x1, x2):-1.1618\n",
      "[0.3767, 0.6846, 0.8916, 0.9958, 0.2559, 0.3767, 0.6846, 0.8916], x1:1.2115, x2:0.1044, h(x1, x2):-1.1618\n",
      "[0.9983, 0.985, 0.9998, 0.392, 0.2559, 0.3767, 0.6846, 0.8916], x1:1.5313, x2:0.1044, h(x1, x2):-1.5107\n",
      "[0.3767, 0.6846, 0.8916, 0.9958, 0.2559, 0.3767, 0.6846, 0.8916], x1:1.2115, x2:0.1044, h(x1, x2):-1.1618\n",
      "[0.9983, 0.985, 0.9998, 0.9958, 0.2559, 0.3767, 0.6846, 0.8916], x1:1.9842, x2:0.1044, h(x1, x2):-2.0047\n",
      "[0.3767, 0.6846, 0.8916, 0.9958, 0.2559, 0.3767, 0.6846, 0.8916], x1:1.2115, x2:0.1044, h(x1, x2):-1.1618\n",
      "[0.9983, 0.985, 0.9998, 0.9958, 0.2559, 0.3767, 0.6846, 0.8916], x1:1.9842, x2:0.1044, h(x1, x2):-2.0047\n",
      "[0.9983, 0.985, 0.9998, 0.9958, 0.2559, 0.3767, 0.6846, 0.8916], x1:1.9842, x2:0.1044, h(x1, x2):-2.0047\n",
      "[0.3767, 0.6846, 0.8916, 0.9958, 0.2559, 0.3767, 0.244, 0.8916], x1:1.2115, x2:-0.1159, h(x1, x2):-1.2361\n",
      "[0.9983, 0.985, 0.9998, 0.9958, 0.2559, 0.3767, 0.6846, 0.8916], x1:1.9842, x2:0.1044, h(x1, x2):-2.0047\n",
      "[0.3767, 0.244, 0.8916, 0.9958, 0.2559, 0.3767, 0.6846, 0.8916], x1:0.8811, x2:0.1044, h(x1, x2):-0.8053\n",
      "[0.9983, 0.985, 0.9998, 0.9958, 0.2559, 0.3767, 0.6846, 0.8916], x1:1.9842, x2:0.1044, h(x1, x2):-2.0047\n",
      "[0.9983, 0.985, 0.9998, 0.9958, 0.2559, 0.3767, 0.6846, 0.8916], x1:1.9842, x2:0.1044, h(x1, x2):-2.0047\n",
      "[0.3767, 0.6846, 0.8916, 0.9958, 0.2559, 0.3767, 0.244, 0.8916], x1:1.2115, x2:-0.1159, h(x1, x2):-1.2361\n",
      "[0.9983, 0.985, 0.9998, 0.9958, 0.2559, 0.3767, 0.6846, 0.8916], x1:1.9842, x2:0.1044, h(x1, x2):-2.0047\n",
      "[0.3767, 0.6846, 0.8916, 0.9958, 0.2559, 0.3767, 0.244, 0.8916], x1:1.2115, x2:-0.1159, h(x1, x2):-1.2361\n",
      "[0.9983, 0.985, 0.9998, 0.9958, 0.2559, 0.3767, 0.6846, 0.8916], x1:1.9842, x2:0.1044, h(x1, x2):-2.0047\n",
      "[0.9983, 0.985, 0.9998, 0.9958, 0.2559, 0.3767, 0.6846, 0.8916], x1:1.9842, x2:0.1044, h(x1, x2):-2.0047\n",
      "[0.3767, 0.6846, 0.8916, 0.9958, 0.2559, 0.3767, 0.244, 0.8916], x1:1.2115, x2:-0.1159, h(x1, x2):-1.2361\n",
      "[0.9983, 0.985, 0.9998, 0.9958, 0.2559, 0.3767, 0.6846, 0.8916], x1:1.9842, x2:0.1044, h(x1, x2):-2.0047\n",
      "[0.3767, 0.6846, 0.8916, 0.9958, 0.2559, 0.0022, 0.1946, 0.8916], x1:1.2115, x2:-0.3278, h(x1, x2):-1.2072\n",
      "[0.9983, 0.985, 0.9998, 0.9958, 0.2559, 0.3767, 0.6846, 0.8916], x1:1.9842, x2:0.1044, h(x1, x2):-2.0047\n",
      "[0.9983, 0.985, 0.9998, 0.9958, 0.2559, 0.3767, 0.6846, 0.8916], x1:1.9842, x2:0.1044, h(x1, x2):-2.0047\n",
      "[0.9983, 0.985, 0.9998, 0.9958, 0.2559, 0.3767, 0.6846, 0.8916], x1:1.9842, x2:0.1044, h(x1, x2):-2.0047\n",
      "[0.3767, 0.1946, 0.8916, 0.9958, 0.2559, 0.3767, 0.6846, 0.8916], x1:0.844, x2:0.1044, h(x1, x2):-0.7657\n",
      "[0.3767, 0.6846, 0.8916, 0.9958, 0.2559, 0.3767, 0.6846, 0.8916], x1:1.2115, x2:0.1044, h(x1, x2):-1.1618\n",
      "[0.9983, 0.985, 0.9998, 0.9958, 0.2559, 0.3767, 0.6846, 0.8916], x1:1.9842, x2:0.1044, h(x1, x2):-2.0047\n",
      "[0.9983, 0.985, 0.9998, 0.9958, 0.2559, 0.3767, 0.6846, 0.8916], x1:1.9842, x2:0.1044, h(x1, x2):-2.0047\n",
      "[0.3767, 0.6846, 0.8916, 0.0734, 0.2559, 0.3767, 0.6846, 0.8916], x1:0.5197, x2:0.1044, h(x1, x2):-0.4236\n",
      "[0.9983, 0.985, 0.9998, 0.9958, 0.2559, 0.3767, 0.6846, 0.8916], x1:1.9842, x2:0.1044, h(x1, x2):-2.0047\n",
      "[0.9983, 0.985, 0.9998, 0.9958, 0.2559, 0.3767, 0.6846, 0.8916], x1:1.9842, x2:0.1044, h(x1, x2):-2.0047\n",
      "[0.9983, 0.985, 0.9998, 0.9958, 0.2559, 0.3767, 0.6846, 0.8916], x1:1.9842, x2:0.1044, h(x1, x2):-2.0047\n",
      "[0.9983, 0.985, 0.9998, 0.9958, 0.2559, 0.3767, 0.6846, 0.8916], x1:1.9842, x2:0.1044, h(x1, x2):-2.0047\n",
      "[0.9983, 0.985, 0.9998, 0.9958, 0.2559, 0.3767, 0.6846, 0.8916], x1:1.9842, x2:0.1044, h(x1, x2):-2.0047\n",
      "[0.3767, 0.6846, 0.8916, 0.9958, 0.2559, 0.3767, 0.2049, 0.8916], x1:1.2115, x2:-0.1355, h(x1, x2):-1.2372\n",
      "[0.3767, 0.2049, 0.8916, 0.9958, 0.2559, 0.3767, 0.6846, 0.8916], x1:0.8518, x2:0.1044, h(x1, x2):-0.774\n",
      "[0.3767, 0.1946, 0.8916, 0.9958, 0.2559, 0.3767, 0.6846, 0.8916], x1:0.844, x2:0.1044, h(x1, x2):-0.7657\n",
      "[0.3767, 0.6846, 0.8916, 0.9958, 0.2559, 0.3767, 0.244, 0.8916], x1:1.2115, x2:-0.1159, h(x1, x2):-1.2361\n",
      "[0.3767, 0.244, 0.8916, 0.9958, 0.2559, 0.3767, 0.1946, 0.8916], x1:0.8811, x2:-0.1406, h(x1, x2):-0.9532\n",
      "[0.9983, 0.3118, 0.9998, 0.9958, 0.2559, 0.3767, 0.6846, 0.8916], x1:1.4793, x2:0.1044, h(x1, x2):-1.4538\n",
      "[0.9983, 0.985, 0.9998, 0.9958, 0.2559, 0.3767, 0.6846, 0.8916], x1:1.9842, x2:0.1044, h(x1, x2):-2.0047\n",
      "[0.9983, 0.985, 0.9998, 0.9958, 0.2559, 0.3767, 0.6846, 0.8916], x1:1.9842, x2:0.1044, h(x1, x2):-2.0047\n",
      "[0.3767, 0.6846, 0.8916, 0.9958, 0.2559, 0.3767, 0.244, 0.8916], x1:1.2115, x2:-0.1159, h(x1, x2):-1.2361\n",
      "[0.3767, 0.244, 0.8916, 0.9958, 0.2559, 0.3767, 0.6846, 0.8916], x1:0.8811, x2:0.1044, h(x1, x2):-0.8053\n",
      "[0.9983, 0.985, 0.9998, 0.9958, 0.2559, 0.3767, 0.6846, 0.8916], x1:1.9842, x2:0.1044, h(x1, x2):-2.0047\n",
      "[0.3767, 0.6846, 0.8916, 0.9958, 0.2559, 0.3767, 0.244, 0.8916], x1:1.2115, x2:-0.1159, h(x1, x2):-1.2361\n",
      "[0.9983, 0.985, 0.9998, 0.9958, 0.2559, 0.3767, 0.6846, 0.8916], x1:1.9842, x2:0.1044, h(x1, x2):-2.0047\n",
      "[0.3767, 0.244, 0.8916, 0.9958, 0.2559, 0.3767, 0.6846, 0.8916], x1:0.8811, x2:0.1044, h(x1, x2):-0.8053\n",
      "[0.3767, 0.6846, 0.8916, 0.9958, 0.2559, 0.3767, 0.244, 0.8916], x1:1.2115, x2:-0.1159, h(x1, x2):-1.2361\n",
      "[0.3767, 0.244, 0.8916, 0.9958, 0.2559, 0.3767, 0.1946, 0.8916], x1:0.8811, x2:-0.1406, h(x1, x2):-0.9532\n",
      "[0.3767, 0.6846, 0.8916, 0.9958, 0.2559, 0.3767, 0.6846, 0.8916], x1:1.2115, x2:0.1044, h(x1, x2):-1.1618\n",
      "[0.3767, 0.6846, 0.8916, 0.9958, 0.2559, 0.3767, 0.244, 0.8916], x1:1.2115, x2:-0.1159, h(x1, x2):-1.2361\n",
      "[0.9983, 0.985, 0.9998, 0.9958, 0.2559, 0.3767, 0.6846, 0.8916], x1:1.9842, x2:0.1044, h(x1, x2):-2.0047\n",
      "[0.3767, 0.6846, 0.8916, 0.9958, 0.2559, 0.3767, 0.6846, 0.8916], x1:1.2115, x2:0.1044, h(x1, x2):-1.1618\n",
      "[0.9983, 0.985, 0.9998, 0.9958, 0.2559, 0.3767, 0.6846, 0.8916], x1:1.9842, x2:0.1044, h(x1, x2):-2.0047\n"
     ]
    }
   ],
   "source": [
    "print('Generational Replacement')\n",
    "output_result(True, 512, 16, 8, 64, 64, 2, 2)"
   ]
  },
  {
   "cell_type": "code",
   "execution_count": 107,
   "metadata": {},
   "outputs": [
    {
     "name": "stdout",
     "output_type": "stream",
     "text": [
      "Steady State\n",
      "Parameters\n",
      "Max Iteration: 2048\n",
      "Selection Iteration: 16\n",
      "Number of chromosome: 8\n",
      "Number of population: 64\n",
      "Crossover Probablilty: 64%\n",
      "Mutation Probability: 2%\n",
      "Best Result\n",
      "[0.9865, 0.9172, 0.8155, 0.9999, 0.5081, 0.5166, 0.8763, 0.2127], x1:1.7893, x2:0.0568, h(x1, x2):-1.7959\n",
      "Results\n",
      "[0.9865, 0.9172, 0.8155, 0.9999, 0.5081, 0.5166, 0.8763, 0.2127], x1:1.7893, x2:0.0568, h(x1, x2):-1.7959\n",
      "[0.9865, 0.9172, 0.8155, 0.9999, 0.5081, 0.5166, 0.8763, 0.2127], x1:1.7893, x2:0.0568, h(x1, x2):-1.7959\n",
      "[0.9865, 0.9172, 0.8155, 0.9999, 0.5081, 0.5166, 0.8763, 0.2127], x1:1.7893, x2:0.0568, h(x1, x2):-1.7959\n",
      "[0.9865, 0.9172, 0.8155, 0.9999, 0.5081, 0.5166, 0.8763, 0.2127], x1:1.7893, x2:0.0568, h(x1, x2):-1.7959\n",
      "[0.9865, 0.9172, 0.8155, 0.9999, 0.5081, 0.5166, 0.8763, 0.2127], x1:1.7893, x2:0.0568, h(x1, x2):-1.7959\n",
      "[0.9865, 0.9172, 0.8155, 0.9999, 0.5081, 0.5166, 0.8763, 0.2127], x1:1.7893, x2:0.0568, h(x1, x2):-1.7959\n",
      "[0.9865, 0.9172, 0.8155, 0.9999, 0.5081, 0.5166, 0.8763, 0.2127], x1:1.7893, x2:0.0568, h(x1, x2):-1.7959\n",
      "[0.9865, 0.9172, 0.8155, 0.9999, 0.5081, 0.5166, 0.8763, 0.2127], x1:1.7893, x2:0.0568, h(x1, x2):-1.7959\n",
      "[0.9865, 0.9172, 0.8155, 0.9999, 0.5081, 0.5166, 0.8763, 0.2127], x1:1.7893, x2:0.0568, h(x1, x2):-1.7959\n",
      "[0.9865, 0.9172, 0.8155, 0.9999, 0.5081, 0.5166, 0.8763, 0.2127], x1:1.7893, x2:0.0568, h(x1, x2):-1.7959\n",
      "[0.9865, 0.9172, 0.8155, 0.9999, 0.5081, 0.5166, 0.8763, 0.2127], x1:1.7893, x2:0.0568, h(x1, x2):-1.7959\n",
      "[0.9865, 0.9172, 0.8155, 0.9999, 0.5081, 0.5166, 0.8763, 0.2127], x1:1.7893, x2:0.0568, h(x1, x2):-1.7959\n",
      "[0.9865, 0.9172, 0.8155, 0.9999, 0.5081, 0.5166, 0.8763, 0.2127], x1:1.7893, x2:0.0568, h(x1, x2):-1.7959\n",
      "[0.9865, 0.9172, 0.8155, 0.9999, 0.5081, 0.5166, 0.8763, 0.2127], x1:1.7893, x2:0.0568, h(x1, x2):-1.7959\n",
      "[0.9865, 0.9172, 0.8155, 0.9999, 0.5081, 0.5166, 0.8763, 0.2127], x1:1.7893, x2:0.0568, h(x1, x2):-1.7959\n",
      "[0.9865, 0.9172, 0.8155, 0.9999, 0.5081, 0.5166, 0.8763, 0.2127], x1:1.7893, x2:0.0568, h(x1, x2):-1.7959\n",
      "[0.9865, 0.9172, 0.8155, 0.9999, 0.5081, 0.5166, 0.8763, 0.2127], x1:1.7893, x2:0.0568, h(x1, x2):-1.7959\n",
      "[0.9865, 0.9172, 0.8155, 0.9999, 0.5081, 0.5166, 0.8763, 0.2127], x1:1.7893, x2:0.0568, h(x1, x2):-1.7959\n",
      "[0.9865, 0.9172, 0.8155, 0.9999, 0.5081, 0.5166, 0.8763, 0.2127], x1:1.7893, x2:0.0568, h(x1, x2):-1.7959\n",
      "[0.9865, 0.9172, 0.8155, 0.9999, 0.5081, 0.5166, 0.8763, 0.2127], x1:1.7893, x2:0.0568, h(x1, x2):-1.7959\n",
      "[0.9865, 0.9172, 0.8155, 0.9999, 0.5081, 0.5166, 0.8763, 0.2127], x1:1.7893, x2:0.0568, h(x1, x2):-1.7959\n",
      "[0.9865, 0.9172, 0.8155, 0.9999, 0.5081, 0.5166, 0.8763, 0.2127], x1:1.7893, x2:0.0568, h(x1, x2):-1.7959\n",
      "[0.9865, 0.9172, 0.8155, 0.9999, 0.5081, 0.5166, 0.8763, 0.2127], x1:1.7893, x2:0.0568, h(x1, x2):-1.7959\n",
      "[0.9865, 0.9172, 0.8155, 0.9999, 0.5081, 0.5166, 0.8763, 0.2127], x1:1.7893, x2:0.0568, h(x1, x2):-1.7959\n",
      "[0.9865, 0.9172, 0.8155, 0.9999, 0.5081, 0.5166, 0.8763, 0.2127], x1:1.7893, x2:0.0568, h(x1, x2):-1.7959\n",
      "[0.9865, 0.9172, 0.8155, 0.9999, 0.5081, 0.5166, 0.8763, 0.2127], x1:1.7893, x2:0.0568, h(x1, x2):-1.7959\n",
      "[0.9865, 0.9172, 0.8155, 0.9999, 0.5081, 0.5166, 0.8763, 0.2127], x1:1.7893, x2:0.0568, h(x1, x2):-1.7959\n",
      "[0.9865, 0.9172, 0.8155, 0.9999, 0.5081, 0.5166, 0.8763, 0.2127], x1:1.7893, x2:0.0568, h(x1, x2):-1.7959\n",
      "[0.0858, 0.473, 0.0658, 0.0458, 0.1973, 0.6154, 0.815, 0.9964], x1:-0.4972, x2:0.312, h(x1, x2):0.7229\n",
      "[0.9865, 0.9172, 0.8155, 0.9999, 0.5081, 0.5166, 0.8763, 0.2127], x1:1.7893, x2:0.0568, h(x1, x2):-1.7959\n",
      "[0.9865, 0.9172, 0.8155, 0.9999, 0.5081, 0.5166, 0.8763, 0.2127], x1:1.7893, x2:0.0568, h(x1, x2):-1.7959\n",
      "[0.9865, 0.9172, 0.8155, 0.9999, 0.5081, 0.5166, 0.8763, 0.2127], x1:1.7893, x2:0.0568, h(x1, x2):-1.7959\n",
      "[0.9865, 0.9172, 0.8155, 0.9999, 0.5081, 0.5166, 0.8763, 0.2127], x1:1.7893, x2:0.0568, h(x1, x2):-1.7959\n",
      "[0.9865, 0.9172, 0.8155, 0.9999, 0.5081, 0.5166, 0.8763, 0.2127], x1:1.7893, x2:0.0568, h(x1, x2):-1.7959\n",
      "[0.9865, 0.9172, 0.8155, 0.9999, 0.5081, 0.5166, 0.8763, 0.2127], x1:1.7893, x2:0.0568, h(x1, x2):-1.7959\n",
      "[0.9865, 0.9172, 0.8155, 0.9999, 0.5081, 0.5166, 0.8763, 0.2127], x1:1.7893, x2:0.0568, h(x1, x2):-1.7959\n",
      "[0.9865, 0.9172, 0.8155, 0.9999, 0.5081, 0.5166, 0.8763, 0.2127], x1:1.7893, x2:0.0568, h(x1, x2):-1.7959\n",
      "[0.9865, 0.9172, 0.8155, 0.9999, 0.5081, 0.5166, 0.8763, 0.2127], x1:1.7893, x2:0.0568, h(x1, x2):-1.7959\n",
      "[0.9865, 0.9172, 0.8155, 0.9999, 0.5081, 0.5166, 0.8763, 0.2127], x1:1.7893, x2:0.0568, h(x1, x2):-1.7959\n",
      "[0.9865, 0.9172, 0.8155, 0.9999, 0.5081, 0.5166, 0.8763, 0.2127], x1:1.7893, x2:0.0568, h(x1, x2):-1.7959\n",
      "[0.9865, 0.9172, 0.8155, 0.9999, 0.5081, 0.5166, 0.8763, 0.2127], x1:1.7893, x2:0.0568, h(x1, x2):-1.7959\n",
      "[0.9865, 0.9172, 0.8155, 0.9999, 0.5081, 0.5166, 0.8763, 0.2127], x1:1.7893, x2:0.0568, h(x1, x2):-1.7959\n",
      "[0.9865, 0.9172, 0.8155, 0.9999, 0.5081, 0.5166, 0.8763, 0.2127], x1:1.7893, x2:0.0568, h(x1, x2):-1.7959\n",
      "[0.9865, 0.9172, 0.8155, 0.9999, 0.5081, 0.5166, 0.8763, 0.2127], x1:1.7893, x2:0.0568, h(x1, x2):-1.7959\n",
      "[0.9865, 0.9172, 0.8155, 0.9999, 0.5081, 0.5166, 0.8763, 0.2127], x1:1.7893, x2:0.0568, h(x1, x2):-1.7959\n",
      "[0.9865, 0.9172, 0.8155, 0.9999, 0.5081, 0.5166, 0.8763, 0.2127], x1:1.7893, x2:0.0568, h(x1, x2):-1.7959\n",
      "[0.9865, 0.9172, 0.8155, 0.9999, 0.5081, 0.5166, 0.8763, 0.2127], x1:1.7893, x2:0.0568, h(x1, x2):-1.7959\n",
      "[0.9865, 0.9172, 0.8155, 0.9999, 0.5081, 0.5166, 0.8763, 0.2127], x1:1.7893, x2:0.0568, h(x1, x2):-1.7959\n",
      "[0.9865, 0.9172, 0.8155, 0.9999, 0.5081, 0.5166, 0.8763, 0.2127], x1:1.7893, x2:0.0568, h(x1, x2):-1.7959\n",
      "[0.9865, 0.9172, 0.8155, 0.9999, 0.5081, 0.5166, 0.8763, 0.2127], x1:1.7893, x2:0.0568, h(x1, x2):-1.7959\n",
      "[0.9865, 0.9172, 0.8155, 0.9999, 0.5081, 0.5166, 0.8763, 0.2127], x1:1.7893, x2:0.0568, h(x1, x2):-1.7959\n",
      "[0.9865, 0.9172, 0.8155, 0.9999, 0.5081, 0.5166, 0.8763, 0.2127], x1:1.7893, x2:0.0568, h(x1, x2):-1.7959\n",
      "[0.9865, 0.9172, 0.8155, 0.9999, 0.5081, 0.5166, 0.8763, 0.2127], x1:1.7893, x2:0.0568, h(x1, x2):-1.7959\n",
      "[0.9865, 0.9172, 0.8155, 0.9999, 0.5081, 0.5166, 0.8763, 0.2127], x1:1.7893, x2:0.0568, h(x1, x2):-1.7959\n",
      "[0.9865, 0.9172, 0.8155, 0.9999, 0.5081, 0.5166, 0.8763, 0.2127], x1:1.7893, x2:0.0568, h(x1, x2):-1.7959\n",
      "[0.9865, 0.9172, 0.8155, 0.9999, 0.5081, 0.5166, 0.8763, 0.2127], x1:1.7893, x2:0.0568, h(x1, x2):-1.7959\n",
      "[0.9865, 0.9172, 0.8155, 0.9999, 0.5081, 0.5166, 0.8763, 0.2127], x1:1.7893, x2:0.0568, h(x1, x2):-1.7959\n",
      "[0.9865, 0.9172, 0.8155, 0.9999, 0.5081, 0.5166, 0.8763, 0.2127], x1:1.7893, x2:0.0568, h(x1, x2):-1.7959\n",
      "[0.9865, 0.9172, 0.8155, 0.9999, 0.5081, 0.5166, 0.8763, 0.2127], x1:1.7893, x2:0.0568, h(x1, x2):-1.7959\n",
      "[0.9865, 0.9172, 0.8155, 0.9999, 0.5081, 0.5166, 0.8763, 0.2127], x1:1.7893, x2:0.0568, h(x1, x2):-1.7959\n",
      "[0.9865, 0.9172, 0.8155, 0.9999, 0.5081, 0.5166, 0.8763, 0.2127], x1:1.7893, x2:0.0568, h(x1, x2):-1.7959\n",
      "[0.9865, 0.9172, 0.8155, 0.9999, 0.5081, 0.5166, 0.8763, 0.2127], x1:1.7893, x2:0.0568, h(x1, x2):-1.7959\n",
      "[0.9865, 0.9172, 0.8155, 0.9999, 0.5081, 0.5166, 0.8763, 0.2127], x1:1.7893, x2:0.0568, h(x1, x2):-1.7959\n",
      "[0.9865, 0.9172, 0.8155, 0.9999, 0.5081, 0.5166, 0.8763, 0.2127], x1:1.7893, x2:0.0568, h(x1, x2):-1.7959\n"
     ]
    }
   ],
   "source": [
    "print('Steady State')\n",
    "output_result(False, 2048, 16, 8, 64, 64, 2)"
   ]
  }
 ],
 "metadata": {
  "kernelspec": {
   "display_name": "Python 3",
   "language": "python",
   "name": "python3"
  },
  "language_info": {
   "codemirror_mode": {
    "name": "ipython",
    "version": 3
   },
   "file_extension": ".py",
   "mimetype": "text/x-python",
   "name": "python",
   "nbconvert_exporter": "python",
   "pygments_lexer": "ipython3",
   "version": "3.7.6"
  }
 },
 "nbformat": 4,
 "nbformat_minor": 4
}
