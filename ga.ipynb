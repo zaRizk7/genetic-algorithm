{
 "cells": [
  {
   "cell_type": "code",
   "execution_count": 1,
   "metadata": {},
   "outputs": [],
   "source": [
    "from numpy import sin, cos, random as rn, array"
   ]
  },
  {
   "cell_type": "code",
   "execution_count": 2,
   "metadata": {},
   "outputs": [],
   "source": [
    "def h(x1, x2):\n",
    "    assert -1 <= x1 <= 2, 'Outside defined limit for x1!'\n",
    "    assert -1 <= x2 <= 1, 'Outside defined limit for x2!'\n",
    "    return cos(x1) * sin(x2) - x1 / (x2 ** 2 + 1)"
   ]
  },
  {
   "cell_type": "code",
   "execution_count": 3,
   "metadata": {},
   "outputs": [],
   "source": [
    "def x(r_min, r_max, gens):\n",
    "    assert r_min <= r_max, 'Minimum limit must be lesser than maximum limit!'\n",
    "    g_sum = sum(gens)\n",
    "    N = len(gens)\n",
    "    return r_min + (r_max - r_min) * g_sum / N"
   ]
  },
  {
   "cell_type": "code",
   "execution_count": 4,
   "metadata": {
    "tags": []
   },
   "outputs": [],
   "source": [
    "def generate_genotype(n):\n",
    "    assert n >= 0, 'Accepts positive integers!'\n",
    "    assert n % 2 == 0, 'Accepts even integers!'\n",
    "    return [[rn.random() for i in range(n)] for i in range(2**n)]\n",
    "\n",
    "genes = generate_genotype(6)"
   ]
  },
  {
   "cell_type": "code",
   "execution_count": 5,
   "metadata": {
    "tags": []
   },
   "outputs": [],
   "source": [
    "def generate_phenotype(genes):\n",
    "    x1 = [x(-1, 2, g[0:len(g)//2]) for g in genes]\n",
    "    x2 = [x(-1, 1, g[len(g)//2:len(g)]) for g in genes]\n",
    "    return x1, x2\n",
    "\n",
    "x1, x2 = generate_phenotype(genes)"
   ]
  },
  {
   "cell_type": "code",
   "execution_count": 6,
   "metadata": {},
   "outputs": [],
   "source": [
    "def fitness(x1, x2):\n",
    "    return 1/h(x1, x2)"
   ]
  },
  {
   "cell_type": "code",
   "execution_count": 7,
   "metadata": {
    "tags": []
   },
   "outputs": [],
   "source": [
    "def selection(genes, x1, x2, k):\n",
    "    best = []\n",
    "    best_fitness = 0\n",
    "    for i in range(k):\n",
    "        random_index = rn.randint(len(x1))\n",
    "        indv_x1 = x1[random_index]\n",
    "        indv_x2 = x2[random_index]\n",
    "        indv_fitness = fitness(indv_x1, indv_x2)\n",
    "        if len(best) == 0 or indv_fitness > best_fitness:\n",
    "            best.append(genes[random_index])\n",
    "            best_fitness = indv_fitness\n",
    "    return best\n",
    "\n",
    "best_genes = selection(genes, x1, x2, 10)"
   ]
  },
  {
   "cell_type": "code",
   "execution_count": 8,
   "metadata": {
    "tags": []
   },
   "outputs": [],
   "source": [
    "def crossover(genes):\n",
    "    N = len(genes[0])\n",
    "    crossed_genes = []\n",
    "    while len(crossed_genes) < len(genes):\n",
    "        cross_probability = rn.randint(0, 101)\n",
    "        i = len(crossed_genes)\n",
    "        new_gene = genes[i].copy()\n",
    "        if cross_probability <= 65:\n",
    "            random_i = rn.randint(len(genes))\n",
    "            random_gene = genes[random_i].copy()\n",
    "            new_gene[0:N//2-1], random_gene[0:N//2+1] = random_gene[N//2+1:N], new_gene[N//2-1:N]\n",
    "        crossed_genes.append(new_gene)\n",
    "    return crossed_genes\n",
    "\n",
    "crossed_genes = crossover(best_genes)"
   ]
  },
  {
   "cell_type": "code",
   "execution_count": 9,
   "metadata": {
    "tags": []
   },
   "outputs": [],
   "source": [
    "def mutation(genes):\n",
    "    mutated_genes = []\n",
    "    N = len(genes[0])\n",
    "    for i in range(len(genes)):\n",
    "        mutation_probability = rn.randint(0, 101)\n",
    "        gene = genes[i].copy()\n",
    "        if mutation_probability <= 1:\n",
    "            random_i = rn.randint(N)\n",
    "            gene[random_i] = rn.random()\n",
    "        mutated_genes.append(gene)\n",
    "    return mutated_genes\n",
    "\n",
    "mutated_genes = mutation(crossed_genes)"
   ]
  },
  {
   "cell_type": "code",
   "execution_count": 10,
   "metadata": {
    "tags": []
   },
   "outputs": [
    {
     "output_type": "stream",
     "name": "stdout",
     "text": "-0.45735038186953\n-1.0636822975914606\n-1.1049468612826285\n-1.1440085713945136\n0.07922024920670204\n"
    }
   ],
   "source": [
    "x1, x2 = generate_phenotype(mutated_genes)\n",
    "for x_1, x_2 in zip(x1, x2):\n",
    "    print(h(x_1, x_2))"
   ]
  }
 ],
 "metadata": {
  "kernelspec": {
   "display_name": "Python 3",
   "language": "python",
   "name": "python3"
  },
  "language_info": {
   "codemirror_mode": {
    "name": "ipython",
    "version": 3
   },
   "file_extension": ".py",
   "mimetype": "text/x-python",
   "name": "python",
   "nbconvert_exporter": "python",
   "pygments_lexer": "ipython3",
   "version": "3.8.3-final"
  }
 },
 "nbformat": 4,
 "nbformat_minor": 4
}